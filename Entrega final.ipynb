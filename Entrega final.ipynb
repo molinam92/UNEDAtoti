{
 "cells": [
  {
   "cell_type": "markdown",
   "id": "affc5a32-37f7-4d8a-978c-a83014816d5e",
   "metadata": {},
   "source": [
    "# Visualización de datos - Entrega final\n",
    "\n",
    "En esta última entrega de la asignatura se va a llevar a cabo el análisis y la visualización de los conjuntos de datos en los que se ha estado trabajando en las anteriores entregas, especialmente en la intermedia en la que se realizó el (pre)procesado y limpieza de los _datasets_.\n",
    "\n",
    "Para esta última entrega se va a utilizar la librería Atoti.\n",
    "\n",
    "Los conjuntos de datos de los que disponemos son los siguientes:\n",
    "\n",
    "- Censo de animales domésticos\n",
    "- Factores demográficos\n",
    "- Factores socioeconómicos\n",
    "- Factores de salud\n",
    "- Elecciones locales\n",
    "- Zonas verdes\n",
    "- Áreas caninas\n",
    "\n",
    "<div class=\"alert alert-block alert-warning\">\n",
    "<b>Nota:</b> Se han vuelto a procesar algunos de los archivos .csv con los datos procesados en la entrega intermedia:\n",
    "    <ul>\n",
    "        <li>Para suprimir la columna de los índices del dataframe (index = False), ya que al volverlos a importar se producía una redundancia de estos índices.</li>\n",
    "        <li>De manera adicional, se ha cambiado el valor de la columna 'año' por 'YEAR' en todos los <i>datasets</i> con el fin de evitar conflictos entre versiones, sistemas operativos, codificaciones, etc.</li>\n",
    "        <li>Se ha incorporado la columna \"cod_distrito\" al <i>dataset</i> de parques y zonas verdes, que no la tenía debido a un error en el código de la entrega intermedia.</li>\n",
    "        <li>Se han añadido entradas adicionales en el conjunto de datos de las elecciones locales para Podemos-Izquierda Unida-Alianza verde en las elecciones 2019 con valores nulos (sin representación) para evitar conflictos al crear las tablas y los cubos de Atoti.</li>\n",
    "        <li>Se ha reestructurado el conjunto de datos del censo de animales domésticos para facilitar el tratamiento de los datos con el <i>widget</i> de Atoti.</li>\n",
    "        <li>Se ha unificado la columna DISTRITO en todos los <i>datasets</i> (en mayúsculas y sin tildes) de tal manera que al unir las tablas no haya conflictos.</li>\n",
    "    </ul>\n",
    "</div>"
   ]
  },
  {
   "cell_type": "markdown",
   "id": "6c26cb34-0f21-45aa-b7ed-a2bb550cdcbe",
   "metadata": {},
   "source": [
    "## Creación de sesión en Atoti\n",
    "\n",
    "En primer lugar, importamos la biblioteca Atoti con la que vamos a trabajar para llevar a cabo la visualización de los datos. Creamos asimismo una sesión un puerto fijo asociándola a una carpeta de contenido para poder seguir trabajando en la visualización en el caso de que tengamos que cerrarla o acceder desde otro lugar."
   ]
  },
  {
   "cell_type": "code",
   "execution_count": 1,
   "id": "8d447a3b-2941-4157-bce0-da31c7e7f926",
   "metadata": {},
   "outputs": [],
   "source": [
    "# Instalamos Atoti si aún no lo tenemos\n",
    "# pip install atoti[jupyterlab]"
   ]
  },
  {
   "cell_type": "code",
   "execution_count": 2,
   "id": "39d62635-828e-4b75-9641-99081e5c5837",
   "metadata": {},
   "outputs": [
    {
     "name": "stdout",
     "output_type": "stream",
     "text": [
      "Welcome to Atoti 0.8.11!\n",
      "\n",
      "By using this community edition, you agree with the license available at https://docs.atoti.io/latest/eula.html.\n",
      "Browse the official documentation at https://docs.atoti.io.\n",
      "Join the community at https://www.atoti.io/register.\n",
      "\n",
      "Atoti collects telemetry data, which is used to help understand how to improve the product.\n",
      "If you don't wish to send usage data, you can request a trial license at https://www.atoti.io/evaluation-license-request.\n",
      "\n",
      "You can hide this message by setting the `ATOTI_HIDE_EULA_MESSAGE` environment variable to True.\n"
     ]
    }
   ],
   "source": [
    "# Importamos la biblioteca Atoti\n",
    "import atoti as tt\n",
    "\n",
    "# Creamos una sesión y definimos sus parámetros\n",
    "session = tt.Session(\n",
    "    user_content_storage=\"./content\",\n",
    "    port=5027,\n",
    "    java_options=[\"-Xms1G\", \"-Xmx10G\"],\n",
    ")"
   ]
  },
  {
   "cell_type": "markdown",
   "id": "859d607c-87f0-42ae-8bea-cf13359543af",
   "metadata": {},
   "source": [
    "## Creación de las tablas en Atoti a partir de los .csv del preprocesado\n",
    "\n",
    "El siguiente paso es importar los _datasets_ que hemos generado en la fase de preprocesado de los datos. Estos se encuentran almacenados en archivos .csv. Además de generar las tablas asociadas en Atoti, vamos a adecuar los títulos de las columnas de tal manera que faciliten la inteligibilidad de las visualizaciones más adelante. Por último, definimos las _keys_ o claves de cada tabla, que son aquellas columnas que hacen única cada entrada del _dataset_."
   ]
  },
  {
   "cell_type": "code",
   "execution_count": 3,
   "id": "bbb02329-6834-48ca-82c8-bdec99dfbee0",
   "metadata": {},
   "outputs": [],
   "source": [
    "# Importamos los .csv y hacemos unos últimos cambios\n",
    "# Censo completo de animales domésticos\n",
    "censo = session.read_csv(\n",
    "    \"./preprocesado/censo_melt.csv\", separator=';',\n",
    "    table_name=\"Censo\",\n",
    "    columns={\n",
    "        \"YEAR\": \"YEAR\",\n",
    "        \"cod_distrito\": \"CODIGO\",\n",
    "        \"DISTRITO\": \"DISTRITO\",\n",
    "        \"CATEGORIA\": \"CATEGORIA\",\n",
    "        \"VALOR\": \"Num ANIMALES\",\n",
    "    },\n",
    "    keys=[\"YEAR\", \"CODIGO\", \"DISTRITO\", \"CATEGORIA\"],\n",
    ")"
   ]
  },
  {
   "cell_type": "code",
   "execution_count": 4,
   "id": "3b8699f0-34b7-455f-940e-3d6ebdeb4332",
   "metadata": {},
   "outputs": [],
   "source": [
    "# Renta media anual por hogar\n",
    "eco = session.read_csv(\n",
    "    \"./preprocesado/dist_eco.csv\", separator=';',\n",
    "    table_name=\"Economia\",\n",
    "    columns={\n",
    "        \"YEAR\": \"YEAR\",\n",
    "        \"cod_distrito\": \"CODIGO\",\n",
    "        \"distrito\": \"DISTRITO\",\n",
    "        \"valor_indicador\": \"RENTA MEDIA ANUAL\",\n",
    "    },\n",
    "    keys=[\"YEAR\", \"CODIGO\", \"DISTRITO\"],\n",
    ")"
   ]
  },
  {
   "cell_type": "code",
   "execution_count": 5,
   "id": "25c3daa1-a817-45bc-9f45-90d7ca5a9e75",
   "metadata": {},
   "outputs": [],
   "source": [
    "# Número de habitantes\n",
    "demo = session.read_csv(\n",
    "    \"./preprocesado/dist_pob.csv\", separator=';',\n",
    "    table_name=\"Poblacion\",\n",
    "    columns={\n",
    "        \"YEAR\": \"YEAR\",\n",
    "        \"cod_distrito\": \"CODIGO\",\n",
    "        \"distrito\": \"DISTRITO\",\n",
    "        \"indicador_nivel2\": \"GENERO\",\n",
    "        \"valor_indicador\": \"Num HABITANTES\",\n",
    "    },\n",
    "    keys=[\"YEAR\", \"CODIGO\", \"DISTRITO\", \"GENERO\"],\n",
    ")"
   ]
  },
  {
   "cell_type": "code",
   "execution_count": 6,
   "id": "c9884e7f-7c4f-4b10-921d-70f3a868bf41",
   "metadata": {},
   "outputs": [],
   "source": [
    "# Índice de sedentarismo\n",
    "salud = session.read_csv(\n",
    "    \"./preprocesado/dist_salud.csv\", separator=';',\n",
    "    table_name=\"Sedentarismo\",\n",
    "    columns={\n",
    "        \"YEAR\": \"YEAR\",\n",
    "        \"cod_distrito\": \"CODIGO\",\n",
    "        \"distrito\": \"DISTRITO\",\n",
    "        \"valor_indicador\": \"% POBLACION\",\n",
    "    },\n",
    "    keys=[\"YEAR\", \"CODIGO\", \"DISTRITO\"],\n",
    ")"
   ]
  },
  {
   "cell_type": "code",
   "execution_count": 7,
   "id": "a96c5047-587a-4f03-97d2-7877ab5227b1",
   "metadata": {},
   "outputs": [],
   "source": [
    "# Elecciones locales\n",
    "elec = session.read_csv(\n",
    "    \"./preprocesado/dist_elec_anual_utf8.csv\", separator=';',\n",
    "    table_name=\"Elecciones\",\n",
    "    columns={\n",
    "        \"YEAR\": \"YEAR\",\n",
    "        \"cod_distrito\": \"CODIGO\",\n",
    "        \"distrito\": \"DISTRITO\",\n",
    "        \"indicador_nivel2\": \"PARTIDO\",\n",
    "        \"porcentaje\": \"% VOTOS\",\n",
    "    },\n",
    "    keys=[\"YEAR\",\"CODIGO\", \"DISTRITO\", \"PARTIDO\"],\n",
    ")"
   ]
  },
  {
   "cell_type": "code",
   "execution_count": 8,
   "id": "b43994c1-ea5d-4080-a84a-6aff17a87d6c",
   "metadata": {},
   "outputs": [],
   "source": [
    "# Zonas verdes\n",
    "parques = session.read_csv(\n",
    "    \"./preprocesado/arbolado_anual.csv\", separator=';',\n",
    "    table_name=\"Parques\",\n",
    "    columns={\n",
    "        \"YEAR\": \"YEAR\",\n",
    "        \"cod_distrito\": \"CODIGO\",\n",
    "        \"DISTRITO\": \"DISTRITO\",\n",
    "        \"SUPERFICIE (ha)\": \"SUPERFICIE (ha)\",\n",
    "    },\n",
    "    keys=[\"YEAR\", \"CODIGO\", \"DISTRITO\"],\n",
    ")"
   ]
  },
  {
   "cell_type": "code",
   "execution_count": 9,
   "id": "3269eedd-4967-4592-88b7-be2fe71616a8",
   "metadata": {},
   "outputs": [],
   "source": [
    "# Áreas caninas\n",
    "caninas = session.read_csv(\n",
    "    \"./preprocesado/caninas_anual.csv\", separator=';',\n",
    "    table_name=\"Areas caninas\",\n",
    "    columns={\n",
    "        \"YEAR\": \"YEAR\",\n",
    "        \"cod_distrito\": \"CODIGO\",\n",
    "        \"distrito\": \"DISTRITO\",\n",
    "        \"TOTAL\": \"TOTAL\",\n",
    "    },\n",
    "    keys=[\"YEAR\", \"CODIGO\", \"DISTRITO\"],\n",
    ")"
   ]
  },
  {
   "cell_type": "markdown",
   "id": "3896bcdc-e3ee-4254-ab68-c39f34101719",
   "metadata": {},
   "source": [
    "## Creación de los cubos de Atoti\n",
    "\n",
    "A partir de las tablas que acabamos de crear en la sesión, generamos los cubos para poder trabajar con la interfaz gráfica de Atoti y generar las visualizaciones"
   ]
  },
  {
   "cell_type": "code",
   "execution_count": 10,
   "id": "049866ae-78f0-494e-9eeb-4d69f04c31f9",
   "metadata": {},
   "outputs": [],
   "source": [
    "# Creamos los cubos de Atoti\n",
    "cube_censo = session.create_cube(censo, name = \"Censo animales\")\n",
    "cube_eco = session.create_cube(eco, name = \"Nivel de renta\")\n",
    "cube_demo = session.create_cube(demo, name = \"Demografía\")\n",
    "cube_salud = session.create_cube(salud, name = \"Sedentarismo\")\n",
    "cube_elec = session.create_cube(elec, name = \"Elecciones locales\")\n",
    "cube_parques = session.create_cube(parques, name = \"Zonas verdes\")\n",
    "cube_caninas = session.create_cube(caninas, name = \"Áreas caninas\")"
   ]
  },
  {
   "cell_type": "markdown",
   "id": "c18e26c9-57d0-4746-b04a-529b3a88462c",
   "metadata": {},
   "source": [
    "### Adición de medidas en los cubos\n",
    "\n",
    "Atoti genera automáticamente medidas como la media o la suma de las columnas que no son claves, que en el caso de este trabajo no resultan especialmente útiles. Como vamos a trabajar directamente con los valores únicos de cada tabla, tenemos que añadirlos tal y como se hace a continuación en el siguiente bloque de código."
   ]
  },
  {
   "cell_type": "code",
   "execution_count": 11,
   "id": "43744248-2c0f-4b3b-a6e3-2b52ca34892d",
   "metadata": {},
   "outputs": [],
   "source": [
    "# Añadimos las medidas manualmente\n",
    "cube_censo.measures[\"Num ANIMALES\"] = tt.agg.single_value(censo[\"Num ANIMALES\"])\n",
    "cube_eco.measures[\"RENTA MEDIA ANUAL\"] = tt.agg.single_value(eco[\"RENTA MEDIA ANUAL\"])\n",
    "cube_demo.measures[\"Num HABITANTES\"] = tt.agg.single_value(demo[\"Num HABITANTES\"])\n",
    "cube_salud.measures[\"% POBLACION\"] = tt.agg.single_value(salud[\"% POBLACION\"])\n",
    "cube_elec.measures[\"% VOTOS\"] = tt.agg.single_value(elec[\"% VOTOS\"])\n",
    "cube_parques.measures[\"SUPERFICIE (ha)\"] = tt.agg.single_value(parques[\"SUPERFICIE (ha)\"])\n",
    "cube_caninas.measures[\"TOTAL\"] = tt.agg.single_value(caninas[\"TOTAL\"])"
   ]
  },
  {
   "cell_type": "markdown",
   "id": "f848b901-9204-4d8c-bd98-50a4d726464c",
   "metadata": {},
   "source": [
    "### Fusión de tablas\n",
    "\n",
    "Los cubos que hemos generado hasta el momento se corresponden con los datos contenidos en cada uno de los archivos .csv que generamos en la fase anterior de preprocesado de los datos. Pero lo que realmente nos interesa es descubrir si existe una correlación entre los diferentes parámetros de la ciudad con los que estamos trabajando (por ejemplo, número de habitantes y animales domésticos por distrito, nivel de renta y resultados de las elecciones locales por distrito, etc). Para ello vamos a unir la tabla base (la del censo de animales domésticos en Madrid del 2019 al 2023) con el resto de tablas, definiendo como variables comunes el año, el código de distrito y el nombre del distrito. Estas nuevas jerarquías dentro del _dataset_ Censo se incorporan de manera automática al cubo y se ven reflejadas de manera casi instantánea en la interfaz gráfica de Atoti en la que estamos trabajando."
   ]
  },
  {
   "cell_type": "code",
   "execution_count": 12,
   "id": "0a15d92b-9a7b-4caa-acd2-024c240f2d26",
   "metadata": {},
   "outputs": [],
   "source": [
    "# Añadimos profundidad a la tabla con el censo de animales\n",
    "censo.join(eco,     (censo[\"YEAR\"] ==     eco[\"YEAR\"]) & (censo[\"CODIGO\"] ==     eco[\"CODIGO\"]) & (censo[\"DISTRITO\"] ==     eco[\"DISTRITO\"]))\n",
    "censo.join(demo,    (censo[\"YEAR\"] ==    demo[\"YEAR\"]) & (censo[\"CODIGO\"] ==    demo[\"CODIGO\"]) & (censo[\"DISTRITO\"] ==    demo[\"DISTRITO\"]))\n",
    "censo.join(salud,   (censo[\"YEAR\"] ==   salud[\"YEAR\"]) & (censo[\"CODIGO\"] ==   salud[\"CODIGO\"]) & (censo[\"DISTRITO\"] ==   salud[\"DISTRITO\"]))\n",
    "censo.join(elec,    (censo[\"YEAR\"] ==    elec[\"YEAR\"]) & (censo[\"CODIGO\"] ==    elec[\"CODIGO\"]) & (censo[\"DISTRITO\"] ==    elec[\"DISTRITO\"]))\n",
    "censo.join(parques, (censo[\"YEAR\"] == parques[\"YEAR\"]) & (censo[\"CODIGO\"] == parques[\"CODIGO\"]) & (censo[\"DISTRITO\"] == parques[\"DISTRITO\"]))\n",
    "censo.join(caninas, (censo[\"YEAR\"] == caninas[\"YEAR\"]) & (censo[\"CODIGO\"] == caninas[\"CODIGO\"]) & (censo[\"DISTRITO\"] == caninas[\"DISTRITO\"]))"
   ]
  },
  {
   "cell_type": "markdown",
   "id": "c4af28aa-886a-4644-b763-790cf67ed1b2",
   "metadata": {},
   "source": [
    "Comprobamos que hemos fusionado adecuadamente las tablas y que se han asociado correctamente las columnas clave."
   ]
  },
  {
   "cell_type": "code",
   "execution_count": 13,
   "id": "1864b56d-6848-4bc6-81bb-0d81ac43ce96",
   "metadata": {},
   "outputs": [
    {
     "data": {
      "text/markdown": [
       "```mermaid\n",
       "erDiagram\n",
       "  \"Sedentarismo\" {\n",
       "    _ int PK \"YEAR\"\n",
       "    _ int PK \"CODIGO\"\n",
       "    _ String PK \"DISTRITO\"\n",
       "    nullable int \"% POBLACION\"\n",
       "  }\n",
       "  \"Economia\" {\n",
       "    _ int PK \"YEAR\"\n",
       "    _ int PK \"CODIGO\"\n",
       "    _ String PK \"DISTRITO\"\n",
       "    nullable int \"RENTA MEDIA ANUAL\"\n",
       "  }\n",
       "  \"Poblacion\" {\n",
       "    _ int PK \"YEAR\"\n",
       "    _ int PK \"CODIGO\"\n",
       "    _ String PK \"DISTRITO\"\n",
       "    _ String PK \"GENERO\"\n",
       "    nullable int \"Num HABITANTES\"\n",
       "  }\n",
       "  \"Censo\" {\n",
       "    _ int PK \"YEAR\"\n",
       "    _ int PK \"CODIGO\"\n",
       "    _ String PK \"DISTRITO\"\n",
       "    _ String PK \"CATEGORIA\"\n",
       "    nullable int \"Num ANIMALES\"\n",
       "  }\n",
       "  \"Parques\" {\n",
       "    _ int PK \"YEAR\"\n",
       "    _ int PK \"CODIGO\"\n",
       "    _ String PK \"DISTRITO\"\n",
       "    nullable double \"SUPERFICIE (ha)\"\n",
       "  }\n",
       "  \"Elecciones\" {\n",
       "    _ int PK \"YEAR\"\n",
       "    _ int PK \"CODIGO\"\n",
       "    _ String PK \"DISTRITO\"\n",
       "    _ String PK \"PARTIDO\"\n",
       "    nullable double \"% VOTOS\"\n",
       "  }\n",
       "  \"Areas caninas\" {\n",
       "    _ int PK \"YEAR\"\n",
       "    _ int PK \"CODIGO\"\n",
       "    _ String PK \"DISTRITO\"\n",
       "    nullable int \"TOTAL\"\n",
       "  }\n",
       "  \"Censo\" }o--o| \"Economia\" : \"(`CODIGO` == `CODIGO`) & (`YEAR` == `YEAR`) & (`DISTRITO` == `DISTRITO`)\"\n",
       "  \"Censo\" }o--o| \"Parques\" : \"(`CODIGO` == `CODIGO`) & (`YEAR` == `YEAR`) & (`DISTRITO` == `DISTRITO`)\"\n",
       "  \"Censo\" }o--o| \"Areas caninas\" : \"(`CODIGO` == `CODIGO`) & (`YEAR` == `YEAR`) & (`DISTRITO` == `DISTRITO`)\"\n",
       "  \"Censo\" }o--o| \"Sedentarismo\" : \"(`CODIGO` == `CODIGO`) & (`YEAR` == `YEAR`) & (`DISTRITO` == `DISTRITO`)\"\n",
       "  \"Censo\" }o..o{ \"Poblacion\" : \"(`CODIGO` == `CODIGO`) & (`DISTRITO` == `DISTRITO`) & (`YEAR` == `YEAR`)\"\n",
       "  \"Censo\" }o..o{ \"Elecciones\" : \"(`CODIGO` == `CODIGO`) & (`DISTRITO` == `DISTRITO`) & (`YEAR` == `YEAR`)\"\n",
       "```\n"
      ],
      "text/plain": [
       "erDiagram\n",
       "  \"Sedentarismo\" {\n",
       "    _ int PK \"YEAR\"\n",
       "    _ int PK \"CODIGO\"\n",
       "    _ String PK \"DISTRITO\"\n",
       "    nullable int \"% POBLACION\"\n",
       "  }\n",
       "  \"Economia\" {\n",
       "    _ int PK \"YEAR\"\n",
       "    _ int PK \"CODIGO\"\n",
       "    _ String PK \"DISTRITO\"\n",
       "    nullable int \"RENTA MEDIA ANUAL\"\n",
       "  }\n",
       "  \"Poblacion\" {\n",
       "    _ int PK \"YEAR\"\n",
       "    _ int PK \"CODIGO\"\n",
       "    _ String PK \"DISTRITO\"\n",
       "    _ String PK \"GENERO\"\n",
       "    nullable int \"Num HABITANTES\"\n",
       "  }\n",
       "  \"Censo\" {\n",
       "    _ int PK \"YEAR\"\n",
       "    _ int PK \"CODIGO\"\n",
       "    _ String PK \"DISTRITO\"\n",
       "    _ String PK \"CATEGORIA\"\n",
       "    nullable int \"Num ANIMALES\"\n",
       "  }\n",
       "  \"Parques\" {\n",
       "    _ int PK \"YEAR\"\n",
       "    _ int PK \"CODIGO\"\n",
       "    _ String PK \"DISTRITO\"\n",
       "    nullable double \"SUPERFICIE (ha)\"\n",
       "  }\n",
       "  \"Elecciones\" {\n",
       "    _ int PK \"YEAR\"\n",
       "    _ int PK \"CODIGO\"\n",
       "    _ String PK \"DISTRITO\"\n",
       "    _ String PK \"PARTIDO\"\n",
       "    nullable double \"% VOTOS\"\n",
       "  }\n",
       "  \"Areas caninas\" {\n",
       "    _ int PK \"YEAR\"\n",
       "    _ int PK \"CODIGO\"\n",
       "    _ String PK \"DISTRITO\"\n",
       "    nullable int \"TOTAL\"\n",
       "  }\n",
       "  \"Censo\" }o--o| \"Economia\" : \"(`CODIGO` == `CODIGO`) & (`YEAR` == `YEAR`) & (`DISTRITO` == `DISTRITO`)\"\n",
       "  \"Censo\" }o--o| \"Parques\" : \"(`CODIGO` == `CODIGO`) & (`YEAR` == `YEAR`) & (`DISTRITO` == `DISTRITO`)\"\n",
       "  \"Censo\" }o--o| \"Areas caninas\" : \"(`CODIGO` == `CODIGO`) & (`YEAR` == `YEAR`) & (`DISTRITO` == `DISTRITO`)\"\n",
       "  \"Censo\" }o--o| \"Sedentarismo\" : \"(`CODIGO` == `CODIGO`) & (`YEAR` == `YEAR`) & (`DISTRITO` == `DISTRITO`)\"\n",
       "  \"Censo\" }o..o{ \"Poblacion\" : \"(`CODIGO` == `CODIGO`) & (`DISTRITO` == `DISTRITO`) & (`YEAR` == `YEAR`)\"\n",
       "  \"Censo\" }o..o{ \"Elecciones\" : \"(`CODIGO` == `CODIGO`) & (`DISTRITO` == `DISTRITO`) & (`YEAR` == `YEAR`)\""
      ]
     },
     "execution_count": 13,
     "metadata": {},
     "output_type": "execute_result"
    }
   ],
   "source": [
    "# Comprobamos\n",
    "session.tables.schema"
   ]
  },
  {
   "cell_type": "markdown",
   "id": "aebee617-7cea-493c-b908-ceaee458f666",
   "metadata": {},
   "source": [
    "De nuevo, resulta necesario añadir manualmente las medidas con las que queremos trabajar. En este caso, serían las de todas las tablas excepto la del censo de animales domésticos."
   ]
  },
  {
   "cell_type": "code",
   "execution_count": 14,
   "id": "de2ec73e-ca56-4cdb-9014-2441bd0dddb3",
   "metadata": {},
   "outputs": [],
   "source": [
    "# Añadimos las medidas indidivuales de cada dataset manualmente a Censo\n",
    "# cube_censo.measures[\"Num ANIMALES\"] = tt.agg.single_value(censo[\"Num ANIMALES\"])\n",
    "cube_censo.measures[\"RENTA MEDIA ANUAL\"] = tt.agg.single_value(eco[\"RENTA MEDIA ANUAL\"])\n",
    "cube_censo.measures[\"Num HABITANTES\"] = tt.agg.single_value(demo[\"Num HABITANTES\"])\n",
    "cube_censo.measures[\"% POBLACION\"] = tt.agg.single_value(salud[\"% POBLACION\"])\n",
    "cube_censo.measures[\"% VOTOS\"] = tt.agg.single_value(elec[\"% VOTOS\"])\n",
    "cube_censo.measures[\"SUPERFICIE (ha)\"] = tt.agg.single_value(parques[\"SUPERFICIE (ha)\"])\n",
    "cube_censo.measures[\"TOTAL\"] = tt.agg.single_value(caninas[\"TOTAL\"])"
   ]
  },
  {
   "cell_type": "markdown",
   "id": "45c272d8-2f66-4b6f-bbeb-a16a980a1565",
   "metadata": {},
   "source": [
    "## Acceso al dashboard\n",
    "\n",
    "Para acceder al dashboard y trabajar con los cubos que hemos creado a través de la interfaz gráfica de Atoti, utilizaremos el enlace a la sesión que hemos creado inicialmente en el puerto que hemos definido."
   ]
  },
  {
   "cell_type": "code",
   "execution_count": 15,
   "id": "3f2448bc-cd67-46c3-b6bd-3efe3e74b543",
   "metadata": {},
   "outputs": [
    {
     "data": {
      "application/vnd.atoti.link.v0+json": {
       "path": "",
       "sessionLocation": {
        "https": false,
        "port": 5027
       }
      },
      "text/markdown": [
       "http://localhost:5027\n",
       "\n",
       "_Note_: This is the session's local URL: it may not be reachable if Atoti is running on another machine."
      ],
      "text/plain": [
       "http://localhost:5027 (This is the session's local URL: it may not be reachable if Atoti is running on another machine.)"
      ]
     },
     "execution_count": 15,
     "metadata": {},
     "output_type": "execute_result"
    }
   ],
   "source": [
    "# Link de la sesión de Atoti\n",
    "session.link"
   ]
  }
 ],
 "metadata": {
  "kernelspec": {
   "display_name": "Python 3 (ipykernel)",
   "language": "python",
   "name": "python3"
  },
  "language_info": {
   "codemirror_mode": {
    "name": "ipython",
    "version": 3
   },
   "file_extension": ".py",
   "mimetype": "text/x-python",
   "name": "python",
   "nbconvert_exporter": "python",
   "pygments_lexer": "ipython3",
   "version": "3.12.3"
  }
 },
 "nbformat": 4,
 "nbformat_minor": 5
}
