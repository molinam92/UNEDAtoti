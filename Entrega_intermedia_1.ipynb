{
 "cells": [
  {
   "cell_type": "markdown",
   "id": "ff5e0a5c-6442-4139-95f4-01879ae2a39b",
   "metadata": {
    "editable": true,
    "slideshow": {
     "slide_type": ""
    },
    "tags": []
   },
   "source": [
    "# Descripción de los conjuntos de datos\n",
    "\n",
    "En este cuaderno se va a proceder a la descripción de los conjuntos de datos que se van a utilizar para el proyecto final de la asignatura (tamaño, tipos de variables, etc).\n",
    "\n",
    "Se muestra a continuación una lista con el contenido de este cuaderno con los enlaces para ir a cada una de las secciones:\n",
    "\n",
    "- [Censo de animales domésticos de la ciudad de Madrid](#Censo-de-animales-domésticos-de-la-ciudad-de-Madrid)\n",
    "- [Indicadores demográficos de distritos y barrios de la ciudad de Madrid](#Indicadores-demográficos-de-distritos-y-barrios-de-la-ciudad-de-Madrid)\n",
    "- [Superficie de parques y zonas verdes de Madrid](#Superficies-de-parques-y-zonas-verdes-de-Madrid)\n",
    "- [Áreas caninas en Madrid](#Áreas-caninas-en-Madrid)\n",
    "\n",
    "Para acceder al cuaderno con el (pre)procesado de los datos, [hacer click aquí](./Entrega_intermedia_2.ipynb)."
   ]
  },
  {
   "cell_type": "markdown",
   "id": "f64a2e2e-3cfe-4511-8252-e9900c5f625b",
   "metadata": {},
   "source": [
    "## Censo de animales domésticos de la ciudad de Madrid\n",
    "\n",
    "Este conjunto de datos describe el censo de animales domésticos en la ciudad de Madrid disgregados por distrito.\n",
    "\n",
    "<div class=\"alert alert-block alert-warning\">\n",
    "<b>Nota:</b> Este <i>dataset</i> abarca desde el año 2014 hasta el año 2022 (solicitada la actualización de los datos y pendiente todavía a día 24/04/2024). Como el resto de conjuntos de datos a utilizar abarcan el periodo 2019-2023, se adecuará en la medida de lo posible este conjunto de datos restringiéndonos a la información de estos años.\n",
    "</div>\n",
    "\n",
    "<div class=\"alert alert-block alert-info\">\n",
    "<b>Nota:</b> A día 25/04/2024 el portal de datos de Madrid ha actualizado el <i>dataset</i> con los datos actualizados de todo el 2023.\n",
    "</div>"
   ]
  },
  {
   "cell_type": "code",
   "execution_count": 1,
   "id": "de188a24-f89f-4e69-aadb-b7e6c0de4b76",
   "metadata": {},
   "outputs": [
    {
     "data": {
      "text/html": [
       "<div>\n",
       "<style scoped>\n",
       "    .dataframe tbody tr th:only-of-type {\n",
       "        vertical-align: middle;\n",
       "    }\n",
       "\n",
       "    .dataframe tbody tr th {\n",
       "        vertical-align: top;\n",
       "    }\n",
       "\n",
       "    .dataframe thead th {\n",
       "        text-align: right;\n",
       "    }\n",
       "</style>\n",
       "<table border=\"1\" class=\"dataframe\">\n",
       "  <thead>\n",
       "    <tr style=\"text-align: right;\">\n",
       "      <th></th>\n",
       "      <th>AÑO</th>\n",
       "      <th>DISTRITO</th>\n",
       "      <th>ESPECIE CANINA</th>\n",
       "      <th>ESPECIE FELINA</th>\n",
       "    </tr>\n",
       "  </thead>\n",
       "  <tbody>\n",
       "    <tr>\n",
       "      <th>0</th>\n",
       "      <td>2023</td>\n",
       "      <td>ARGANZUELA</td>\n",
       "      <td>12685</td>\n",
       "      <td>7028</td>\n",
       "    </tr>\n",
       "    <tr>\n",
       "      <th>1</th>\n",
       "      <td>2023</td>\n",
       "      <td>BARAJAS</td>\n",
       "      <td>6068</td>\n",
       "      <td>2176</td>\n",
       "    </tr>\n",
       "    <tr>\n",
       "      <th>2</th>\n",
       "      <td>2023</td>\n",
       "      <td>CARABANCHEL</td>\n",
       "      <td>24302</td>\n",
       "      <td>9955</td>\n",
       "    </tr>\n",
       "    <tr>\n",
       "      <th>3</th>\n",
       "      <td>2023</td>\n",
       "      <td>CENTRO</td>\n",
       "      <td>19791</td>\n",
       "      <td>12457</td>\n",
       "    </tr>\n",
       "    <tr>\n",
       "      <th>4</th>\n",
       "      <td>2023</td>\n",
       "      <td>CHAMARTÍN</td>\n",
       "      <td>13632</td>\n",
       "      <td>5181</td>\n",
       "    </tr>\n",
       "  </tbody>\n",
       "</table>\n",
       "</div>"
      ],
      "text/plain": [
       "    AÑO     DISTRITO  ESPECIE CANINA  ESPECIE FELINA\n",
       "0  2023   ARGANZUELA           12685            7028\n",
       "1  2023      BARAJAS            6068            2176\n",
       "2  2023  CARABANCHEL           24302            9955\n",
       "3  2023       CENTRO           19791           12457\n",
       "4  2023    CHAMARTÍN           13632            5181"
      ]
     },
     "execution_count": 1,
     "metadata": {},
     "output_type": "execute_result"
    }
   ],
   "source": [
    "#Importamos la biblioteca pandas\n",
    "import pandas as pd\n",
    "\n",
    "#Cargamos la información del .csv en el dataframe con el que vamos a trabajar\n",
    "censo = pd.read_csv('datasets/censo animales 2014-2023.csv', delimiter=';')\n",
    "\n",
    "#Mostramos las primeras filas del dataframe para comprobar que se ha importado correctamente\n",
    "censo.head()"
   ]
  },
  {
   "cell_type": "code",
   "execution_count": 2,
   "id": "65532475-eab3-49b6-a929-2fdd2cf36fa2",
   "metadata": {},
   "outputs": [
    {
     "name": "stdout",
     "output_type": "stream",
     "text": [
      "<class 'pandas.core.frame.DataFrame'>\n",
      "RangeIndex: 210 entries, 0 to 209\n",
      "Data columns (total 4 columns):\n",
      " #   Column          Non-Null Count  Dtype \n",
      "---  ------          --------------  ----- \n",
      " 0   AÑO             210 non-null    int64 \n",
      " 1   DISTRITO        210 non-null    object\n",
      " 2   ESPECIE CANINA  210 non-null    int64 \n",
      " 3   ESPECIE FELINA  210 non-null    int64 \n",
      "dtypes: int64(3), object(1)\n",
      "memory usage: 6.7+ KB\n"
     ]
    }
   ],
   "source": [
    "#Obtenemos la información del conjunto de datos\n",
    "censo.info()"
   ]
  },
  {
   "cell_type": "markdown",
   "id": "07b069f1-1686-4585-87b2-beae2eb0f230",
   "metadata": {},
   "source": [
    "A partir del código anterior comprobamos que el conjunto de datos presenta 210 entradas, ninguna de ellas nula. Asimismo, contiene 3 variables numéricas (año, número de perros y número de gatos) y una variable categórica (distrito). También nos indica que ocupa un espacio en memoria de 6.7KB.\n",
    "\n",
    "Vamos a analizar las variables numéricas en primer lugar."
   ]
  },
  {
   "cell_type": "code",
   "execution_count": 3,
   "id": "a67da65a-c491-4c75-be77-14751fcf02fd",
   "metadata": {},
   "outputs": [
    {
     "data": {
      "text/html": [
       "<div>\n",
       "<style scoped>\n",
       "    .dataframe tbody tr th:only-of-type {\n",
       "        vertical-align: middle;\n",
       "    }\n",
       "\n",
       "    .dataframe tbody tr th {\n",
       "        vertical-align: top;\n",
       "    }\n",
       "\n",
       "    .dataframe thead th {\n",
       "        text-align: right;\n",
       "    }\n",
       "</style>\n",
       "<table border=\"1\" class=\"dataframe\">\n",
       "  <thead>\n",
       "    <tr style=\"text-align: right;\">\n",
       "      <th></th>\n",
       "      <th>AÑO</th>\n",
       "      <th>ESPECIE CANINA</th>\n",
       "      <th>ESPECIE FELINA</th>\n",
       "    </tr>\n",
       "  </thead>\n",
       "  <tbody>\n",
       "    <tr>\n",
       "      <th>count</th>\n",
       "      <td>210.000000</td>\n",
       "      <td>210.000000</td>\n",
       "      <td>210.000000</td>\n",
       "    </tr>\n",
       "    <tr>\n",
       "      <th>mean</th>\n",
       "      <td>2018.500000</td>\n",
       "      <td>13458.471429</td>\n",
       "      <td>4380.728571</td>\n",
       "    </tr>\n",
       "    <tr>\n",
       "      <th>std</th>\n",
       "      <td>2.879145</td>\n",
       "      <td>4874.641703</td>\n",
       "      <td>2870.884172</td>\n",
       "    </tr>\n",
       "    <tr>\n",
       "      <th>min</th>\n",
       "      <td>2014.000000</td>\n",
       "      <td>4584.000000</td>\n",
       "      <td>505.000000</td>\n",
       "    </tr>\n",
       "    <tr>\n",
       "      <th>25%</th>\n",
       "      <td>2016.000000</td>\n",
       "      <td>10564.750000</td>\n",
       "      <td>2192.000000</td>\n",
       "    </tr>\n",
       "    <tr>\n",
       "      <th>50%</th>\n",
       "      <td>2018.500000</td>\n",
       "      <td>13004.500000</td>\n",
       "      <td>3756.000000</td>\n",
       "    </tr>\n",
       "    <tr>\n",
       "      <th>75%</th>\n",
       "      <td>2021.000000</td>\n",
       "      <td>16933.500000</td>\n",
       "      <td>5875.250000</td>\n",
       "    </tr>\n",
       "    <tr>\n",
       "      <th>max</th>\n",
       "      <td>2023.000000</td>\n",
       "      <td>27953.000000</td>\n",
       "      <td>18398.000000</td>\n",
       "    </tr>\n",
       "  </tbody>\n",
       "</table>\n",
       "</div>"
      ],
      "text/plain": [
       "               AÑO  ESPECIE CANINA  ESPECIE FELINA\n",
       "count   210.000000      210.000000      210.000000\n",
       "mean   2018.500000    13458.471429     4380.728571\n",
       "std       2.879145     4874.641703     2870.884172\n",
       "min    2014.000000     4584.000000      505.000000\n",
       "25%    2016.000000    10564.750000     2192.000000\n",
       "50%    2018.500000    13004.500000     3756.000000\n",
       "75%    2021.000000    16933.500000     5875.250000\n",
       "max    2023.000000    27953.000000    18398.000000"
      ]
     },
     "execution_count": 3,
     "metadata": {},
     "output_type": "execute_result"
    }
   ],
   "source": [
    "censo.describe()"
   ]
  },
  {
   "cell_type": "markdown",
   "id": "2eff31b3-c510-4415-bf01-040570b51731",
   "metadata": {},
   "source": [
    "Este código nos da una idea general de la distribución de los datos numéricos, sobre todo en lo que respecta a la cantidad de perros y gatos entre el año 2014 y el año 2018; eso sí, sin desgregar por barrios. A continuación vamos a explorar los detalles de la variable categórica distrito:"
   ]
  },
  {
   "cell_type": "code",
   "execution_count": 4,
   "id": "673ca1ff-fa81-4e48-9344-a9a050b65265",
   "metadata": {
    "editable": true,
    "slideshow": {
     "slide_type": ""
    },
    "tags": []
   },
   "outputs": [
    {
     "data": {
      "text/plain": [
       "DISTRITO\n",
       "ARGANZUELA             10\n",
       "MORATALAZ              10\n",
       "VILLA DE VALLECAS      10\n",
       "VICÁLVARO              10\n",
       "USERA                  10\n",
       "TETUÁN                 10\n",
       "SAN BLAS-CANILLEJAS    10\n",
       "SALAMANCA              10\n",
       "RETIRO                 10\n",
       "PUENTE DE VALLECAS     10\n",
       "MONCLOA-ARAVACA        10\n",
       "BARAJAS                10\n",
       "LATINA                 10\n",
       "HORTALEZA              10\n",
       "FUENCARRAL-EL PARDO    10\n",
       "CIUDAD LINEAL          10\n",
       "CHAMBERÍ               10\n",
       "CHAMARTÍN              10\n",
       "CENTRO                 10\n",
       "CARABANCHEL            10\n",
       "VILLAVERDE             10\n",
       "Name: count, dtype: int64"
      ]
     },
     "execution_count": 4,
     "metadata": {},
     "output_type": "execute_result"
    }
   ],
   "source": [
    "censo[\"DISTRITO\"].value_counts()"
   ]
  },
  {
   "cell_type": "markdown",
   "id": "b19785fe-f119-414b-aced-c31eada33d6f",
   "metadata": {},
   "source": [
    "Mediante el código anterior hemos obtenido los 22 posibles valores de la variable categórica distrito, con 10 observaciones para cada valor en todas ellas."
   ]
  },
  {
   "cell_type": "markdown",
   "id": "e5479660-5e16-4e72-93ce-05214a932a2a",
   "metadata": {},
   "source": [
    "## Indicadores demográficos de distritos y barrios de la ciudad de Madrid\n",
    "\n",
    "Este conjunto de datos proporciona una cantidad ingente de información acerca de las características demográficas de los distritos y barrios de Madrid desde el 2016 hasta el 2023: nivel de renta, tasa de desempleo, inmigración, desigualdad de género, envejecimiento, calidad de vida, resultados electorales… Prácticamente cualquier parámetro con el que se quisiera correlar la información del censo de animales domésticos por distritos se puede encontrar en este conjunto de datos, el cual se deberá preprocesar debidamente para quedarnos con la información pertinente."
   ]
  },
  {
   "cell_type": "code",
   "execution_count": 5,
   "id": "685d6c7d-8692-4b8a-b942-a276eb971f93",
   "metadata": {},
   "outputs": [
    {
     "data": {
      "text/html": [
       "<div>\n",
       "<style scoped>\n",
       "    .dataframe tbody tr th:only-of-type {\n",
       "        vertical-align: middle;\n",
       "    }\n",
       "\n",
       "    .dataframe tbody tr th {\n",
       "        vertical-align: top;\n",
       "    }\n",
       "\n",
       "    .dataframe thead th {\n",
       "        text-align: right;\n",
       "    }\n",
       "</style>\n",
       "<table border=\"1\" class=\"dataframe\">\n",
       "  <thead>\n",
       "    <tr style=\"text-align: right;\">\n",
       "      <th></th>\n",
       "      <th>Orden</th>\n",
       "      <th>Periodo panel</th>\n",
       "      <th>ciudad</th>\n",
       "      <th>cod_distrito</th>\n",
       "      <th>distrito</th>\n",
       "      <th>cod_barrio</th>\n",
       "      <th>barrio</th>\n",
       "      <th>año</th>\n",
       "      <th>fecha_indicador</th>\n",
       "      <th>fuente_indicador</th>\n",
       "      <th>categoría_1</th>\n",
       "      <th>categoría_2</th>\n",
       "      <th>indicador_nivel1</th>\n",
       "      <th>indicador_nivel2</th>\n",
       "      <th>indicador_nivel3</th>\n",
       "      <th>unidad_indicador</th>\n",
       "      <th>indicador_completo</th>\n",
       "      <th>valor_indicador</th>\n",
       "    </tr>\n",
       "  </thead>\n",
       "  <tbody>\n",
       "    <tr>\n",
       "      <th>0</th>\n",
       "      <td>1</td>\n",
       "      <td>2019</td>\n",
       "      <td>Ciudad de Madrid</td>\n",
       "      <td>NaN</td>\n",
       "      <td>NaN</td>\n",
       "      <td>NaN</td>\n",
       "      <td>NaN</td>\n",
       "      <td>2019</td>\n",
       "      <td>01/01/2019</td>\n",
       "      <td>Estadística Ayuntamiento de Madrid</td>\n",
       "      <td>Características Generales del Distrito-Barrio</td>\n",
       "      <td>NaN</td>\n",
       "      <td>Superficie</td>\n",
       "      <td>NaN</td>\n",
       "      <td>NaN</td>\n",
       "      <td>Ha</td>\n",
       "      <td>Superficie (Ha.)</td>\n",
       "      <td>60.446</td>\n",
       "    </tr>\n",
       "    <tr>\n",
       "      <th>1</th>\n",
       "      <td>2</td>\n",
       "      <td>2019</td>\n",
       "      <td>Ciudad de Madrid</td>\n",
       "      <td>NaN</td>\n",
       "      <td>NaN</td>\n",
       "      <td>NaN</td>\n",
       "      <td>NaN</td>\n",
       "      <td>2019</td>\n",
       "      <td>01/01/2019</td>\n",
       "      <td>Estadística Ayuntamiento de Madrid</td>\n",
       "      <td>Características Generales del Distrito-Barrio</td>\n",
       "      <td>NaN</td>\n",
       "      <td>Población densidad de población</td>\n",
       "      <td>NaN</td>\n",
       "      <td>NaN</td>\n",
       "      <td>Habitantes/Ha.</td>\n",
       "      <td>Población densidad (hab./Ha.)</td>\n",
       "      <td>54</td>\n",
       "    </tr>\n",
       "    <tr>\n",
       "      <th>2</th>\n",
       "      <td>3</td>\n",
       "      <td>2019</td>\n",
       "      <td>Ciudad de Madrid</td>\n",
       "      <td>NaN</td>\n",
       "      <td>NaN</td>\n",
       "      <td>NaN</td>\n",
       "      <td>NaN</td>\n",
       "      <td>2019</td>\n",
       "      <td>01/01/2019</td>\n",
       "      <td>Estadística Ayuntamiento de Madrid</td>\n",
       "      <td>Población del distrito</td>\n",
       "      <td>Estructura de población</td>\n",
       "      <td>Número de Habitantes</td>\n",
       "      <td>NaN</td>\n",
       "      <td>NaN</td>\n",
       "      <td>Habitantes</td>\n",
       "      <td>Número Habitantes</td>\n",
       "      <td>3.266.126</td>\n",
       "    </tr>\n",
       "    <tr>\n",
       "      <th>3</th>\n",
       "      <td>4</td>\n",
       "      <td>2019</td>\n",
       "      <td>Ciudad de Madrid</td>\n",
       "      <td>NaN</td>\n",
       "      <td>NaN</td>\n",
       "      <td>NaN</td>\n",
       "      <td>NaN</td>\n",
       "      <td>2019</td>\n",
       "      <td>01/01/2019</td>\n",
       "      <td>Estadística Ayuntamiento de Madrid</td>\n",
       "      <td>Población del distrito</td>\n",
       "      <td>Estructura de población</td>\n",
       "      <td>Número de Habitantes</td>\n",
       "      <td>Hombres</td>\n",
       "      <td>NaN</td>\n",
       "      <td>Habitantes</td>\n",
       "      <td>Población Hombres</td>\n",
       "      <td>1.521.178</td>\n",
       "    </tr>\n",
       "    <tr>\n",
       "      <th>4</th>\n",
       "      <td>5</td>\n",
       "      <td>2019</td>\n",
       "      <td>Ciudad de Madrid</td>\n",
       "      <td>NaN</td>\n",
       "      <td>NaN</td>\n",
       "      <td>NaN</td>\n",
       "      <td>NaN</td>\n",
       "      <td>2019</td>\n",
       "      <td>01/01/2019</td>\n",
       "      <td>Estadística Ayuntamiento de Madrid</td>\n",
       "      <td>Población del distrito</td>\n",
       "      <td>Estructura de población</td>\n",
       "      <td>Número de Habitantes</td>\n",
       "      <td>Mujeres</td>\n",
       "      <td>NaN</td>\n",
       "      <td>Habitantes</td>\n",
       "      <td>Población Mujeres</td>\n",
       "      <td>1.744.948</td>\n",
       "    </tr>\n",
       "  </tbody>\n",
       "</table>\n",
       "</div>"
      ],
      "text/plain": [
       "   Orden Periodo panel            ciudad  cod_distrito distrito  cod_barrio  \\\n",
       "0      1          2019  Ciudad de Madrid           NaN      NaN         NaN   \n",
       "1      2          2019  Ciudad de Madrid           NaN      NaN         NaN   \n",
       "2      3          2019  Ciudad de Madrid           NaN      NaN         NaN   \n",
       "3      4          2019  Ciudad de Madrid           NaN      NaN         NaN   \n",
       "4      5          2019  Ciudad de Madrid           NaN      NaN         NaN   \n",
       "\n",
       "  barrio   año fecha_indicador                    fuente_indicador  \\\n",
       "0    NaN  2019      01/01/2019  Estadística Ayuntamiento de Madrid   \n",
       "1    NaN  2019      01/01/2019  Estadística Ayuntamiento de Madrid   \n",
       "2    NaN  2019      01/01/2019  Estadística Ayuntamiento de Madrid   \n",
       "3    NaN  2019      01/01/2019  Estadística Ayuntamiento de Madrid   \n",
       "4    NaN  2019      01/01/2019  Estadística Ayuntamiento de Madrid   \n",
       "\n",
       "                                     categoría_1              categoría_2  \\\n",
       "0  Características Generales del Distrito-Barrio                      NaN   \n",
       "1  Características Generales del Distrito-Barrio                      NaN   \n",
       "2                         Población del distrito  Estructura de población   \n",
       "3                         Población del distrito  Estructura de población   \n",
       "4                         Población del distrito  Estructura de población   \n",
       "\n",
       "                  indicador_nivel1 indicador_nivel2 indicador_nivel3  \\\n",
       "0                       Superficie              NaN              NaN   \n",
       "1  Población densidad de población              NaN              NaN   \n",
       "2             Número de Habitantes              NaN              NaN   \n",
       "3             Número de Habitantes          Hombres              NaN   \n",
       "4             Número de Habitantes          Mujeres              NaN   \n",
       "\n",
       "  unidad_indicador              indicador_completo valor_indicador  \n",
       "0               Ha               Superficie (Ha.)           60.446  \n",
       "1   Habitantes/Ha.  Población densidad (hab./Ha.)               54  \n",
       "2       Habitantes               Número Habitantes       3.266.126  \n",
       "3       Habitantes              Población Hombres        1.521.178  \n",
       "4       Habitantes               Población Mujeres       1.744.948  "
      ]
     },
     "execution_count": 5,
     "metadata": {},
     "output_type": "execute_result"
    }
   ],
   "source": [
    "#Cargamos la información del .csv en el dataframe con el que vamos a trabajar\n",
    "demo_distritos = pd.read_csv('datasets/indicadores distritos 2019-2023.csv', delimiter=';', encoding='ISO-8859-1')\n",
    "\n",
    "#Mostramos las primeras filas del dataframe para comprobar que se ha importado correctamente\n",
    "demo_distritos.head()"
   ]
  },
  {
   "cell_type": "markdown",
   "id": "68d5774c-8e21-4f2e-b8b7-57397941aa67",
   "metadata": {},
   "source": [
    "Vemos que se trata de un conjunto de datos bastante denso. Antes de proceder con la limpieza y preprocesado de la información, vamos a realizar los mismos pasos que con el conjunto de datos anterior. En primer lugar, vamos a comprobar la información general del conjunto:"
   ]
  },
  {
   "cell_type": "code",
   "execution_count": 6,
   "id": "0bbd03d0-78bf-4508-ac93-06d971db06d9",
   "metadata": {},
   "outputs": [
    {
     "name": "stdout",
     "output_type": "stream",
     "text": [
      "<class 'pandas.core.frame.DataFrame'>\n",
      "RangeIndex: 69179 entries, 0 to 69178\n",
      "Data columns (total 18 columns):\n",
      " #   Column              Non-Null Count  Dtype  \n",
      "---  ------              --------------  -----  \n",
      " 0   Orden               69179 non-null  int64  \n",
      " 1   Periodo panel       69179 non-null  object \n",
      " 2   ciudad              69179 non-null  object \n",
      " 3   cod_distrito        68092 non-null  float64\n",
      " 4   distrito            68092 non-null  object \n",
      " 5   cod_barrio          50411 non-null  float64\n",
      " 6   barrio              50419 non-null  object \n",
      " 7   año                 69179 non-null  int64  \n",
      " 8   fecha_indicador     69179 non-null  object \n",
      " 9   fuente_indicador    69179 non-null  object \n",
      " 10  categoría_1         69179 non-null  object \n",
      " 11  categoría_2         61908 non-null  object \n",
      " 12  indicador_nivel1    69179 non-null  object \n",
      " 13  indicador_nivel2    60140 non-null  object \n",
      " 14  indicador_nivel3    25980 non-null  object \n",
      " 15  unidad_indicador    69160 non-null  object \n",
      " 16  indicador_completo  69179 non-null  object \n",
      " 17  valor_indicador     69179 non-null  object \n",
      "dtypes: float64(2), int64(2), object(14)\n",
      "memory usage: 9.5+ MB\n"
     ]
    }
   ],
   "source": [
    "demo_distritos.info()"
   ]
  },
  {
   "cell_type": "markdown",
   "id": "c43bdf58-e88f-4b7b-bde3-13b55e48b209",
   "metadata": {},
   "source": [
    "Efectivamente vemos que este conjunto de datos consta de de 17 variables, todas categóricas excepto 4, que se corresponden con el orden, el código del distrito, el código del barrio y el año al que corresponden los datos (que puede ser diferente al año del panel al que pertenecen). El comando ejecutado también nos indica que el conjunto de datos ocupa un espacio en memoria de 9.5MB.\n",
    "\n",
    "Vemos también que las variables no siempre tienen nombres muy descriptivos (categoría_1, categoría_2, indicador_nivel1, etc), así que también tendremos que trabajar en ese aspecto durante el preprocesado. A continuación vamos a estudiar los detalles de las variables categóricas que componen el _dataset_:"
   ]
  },
  {
   "cell_type": "code",
   "execution_count": 7,
   "id": "d760dac4-2b13-477a-a1bb-84ab42ec9cea",
   "metadata": {},
   "outputs": [
    {
     "name": "stdout",
     "output_type": "stream",
     "text": [
      "------ Info PERIODO PANEL ------\n"
     ]
    },
    {
     "data": {
      "text/plain": [
       "Periodo panel\n",
       "2023       20402\n",
       "2019       17505\n",
       "2020-21    16076\n",
       "2022       15196\n",
       "Name: count, dtype: int64"
      ]
     },
     "execution_count": 7,
     "metadata": {},
     "output_type": "execute_result"
    }
   ],
   "source": [
    "print('------ Info PERIODO PANEL ------')\n",
    "demo_distritos[\"Periodo panel\"].value_counts()"
   ]
  },
  {
   "cell_type": "code",
   "execution_count": 8,
   "id": "1a6ca76e-39c4-4cfb-b63a-25ade5a441f8",
   "metadata": {},
   "outputs": [
    {
     "name": "stdout",
     "output_type": "stream",
     "text": [
      "------ Info CIUDAD ------\n"
     ]
    },
    {
     "data": {
      "text/plain": [
       "ciudad\n",
       "Ciudad de Madrid    69179\n",
       "Name: count, dtype: int64"
      ]
     },
     "execution_count": 8,
     "metadata": {},
     "output_type": "execute_result"
    }
   ],
   "source": [
    "print('------ Info CIUDAD ------')\n",
    "demo_distritos[\"ciudad\"].value_counts()"
   ]
  },
  {
   "cell_type": "code",
   "execution_count": 9,
   "id": "fdf632ec-e7d0-478d-abf0-4fb2e1ac4077",
   "metadata": {
    "scrolled": true
   },
   "outputs": [
    {
     "name": "stdout",
     "output_type": "stream",
     "text": [
      "------ Info DISTRITO ------\n"
     ]
    },
    {
     "data": {
      "text/plain": [
       "distrito\n",
       "Fuencarral-El Pardo    3940\n",
       "San Blas-Canillejas    3899\n",
       "Arganzuela             3491\n",
       "Moncloa-Aravaca        3470\n",
       "Ciudad Lineal          3280\n",
       "Centro                 3206\n",
       "Tetuán                 3167\n",
       "Retiro                 3137\n",
       "Chamberí               3117\n",
       "Chamartín              3103\n",
       "Salamanca              3084\n",
       "Usera                  2774\n",
       "Carabanchel            2759\n",
       "Latina                 2755\n",
       "Puente de Vallecas     2514\n",
       "Hortaleza              2450\n",
       "Moratalaz              2409\n",
       "Villaverde             2193\n",
       "Barajas                2067\n",
       "Vicálvaro              1831\n",
       "Villa de Vallecas      1565\n",
       " Ciudad Lineal          967\n",
       " Usera                  820\n",
       " Latina                 818\n",
       " Carabanchel            818\n",
       " Puente de Vallecas     746\n",
       " Hortaleza              728\n",
       " Moratalaz              714\n",
       " Villaverde             649\n",
       " Barajas                609\n",
       " Vicálvaro              541\n",
       " Villa de Vallecas      471\n",
       "Name: count, dtype: int64"
      ]
     },
     "execution_count": 9,
     "metadata": {},
     "output_type": "execute_result"
    }
   ],
   "source": [
    "print('------ Info DISTRITO ------')\n",
    "demo_distritos[\"distrito\"].value_counts()"
   ]
  },
  {
   "cell_type": "code",
   "execution_count": 10,
   "id": "cc3fedca-e9df-4c26-8f42-0e6fb8ab8432",
   "metadata": {
    "scrolled": true
   },
   "outputs": [
    {
     "name": "stdout",
     "output_type": "stream",
     "text": [
      "------ Info BARRIO ------\n"
     ]
    },
    {
     "data": {
      "text/plain": [
       "barrio\n",
       "Almenara                        413\n",
       "Guindalera                      411\n",
       "Palacio                         411\n",
       "Justicia                        408\n",
       "Universidad                     404\n",
       "                               ... \n",
       " Atalaya                         78\n",
       " Colina                          78\n",
       "Los Ángeles                       5\n",
       "Casco histórico de Vicálvaro      5\n",
       "Salvador                          5\n",
       "Name: count, Length: 206, dtype: int64"
      ]
     },
     "execution_count": 10,
     "metadata": {},
     "output_type": "execute_result"
    }
   ],
   "source": [
    "print('------ Info BARRIO ------')\n",
    "demo_distritos[\"barrio\"].value_counts()"
   ]
  },
  {
   "cell_type": "code",
   "execution_count": 11,
   "id": "a9dae12f-c89f-42a3-9b3f-6379ddd610bc",
   "metadata": {
    "scrolled": true
   },
   "outputs": [
    {
     "name": "stdout",
     "output_type": "stream",
     "text": [
      "------ Info FECHA INDICADOR ------\n"
     ]
    },
    {
     "data": {
      "text/plain": [
       "fecha_indicador\n",
       "01/01/2021    13794\n",
       "01/01/2020    13573\n",
       "01/01/2019    13285\n",
       "01/01/2022    11643\n",
       "01/01/2023     4666\n",
       "01/02/2022     2034\n",
       "01/02/2020     2034\n",
       "01/02/2021     2032\n",
       "28/05/2023     1530\n",
       "01/01/2018     1432\n",
       "26/05/2019     1374\n",
       "01/01/2016      787\n",
       "01/08/2023      765\n",
       "01/01/2017      201\n",
       "01/01/2008       22\n",
       "01/01/2013        4\n",
       "10/01/2021        1\n",
       "01/01/2011        1\n",
       "01/01/2009        1\n",
       "Name: count, dtype: int64"
      ]
     },
     "execution_count": 11,
     "metadata": {},
     "output_type": "execute_result"
    }
   ],
   "source": [
    "print('------ Info FECHA INDICADOR ------')\n",
    "demo_distritos[\"fecha_indicador\"].value_counts()"
   ]
  },
  {
   "cell_type": "code",
   "execution_count": 12,
   "id": "55c2825e-bd91-491c-9cc3-c6775cd2814a",
   "metadata": {
    "scrolled": true
   },
   "outputs": [
    {
     "name": "stdout",
     "output_type": "stream",
     "text": [
      "------ Info FUENTE INDICADOR ------\n"
     ]
    },
    {
     "data": {
      "text/plain": [
       "fuente_indicador\n",
       "Estadística Ayuntamiento de Madrid                                                                54048\n",
       "Portal de datos abiertos del Ayuntamiento de Madrid                                                5780\n",
       "Portal web del Ayuntamiento de Madrid                                                              3436\n",
       "Portal web del Ayuntamiento de Madrid (https://iguala.madrid.es/)                                  2343\n",
       "Encuesta de calidad de vida y satisfacción con los Servicios Públicos de Madrid                    1726\n",
       "Censo de entidades y colectivos, consejos de proximidad e instrumentos de colaboración social       581\n",
       "Ayuntamiento de Madrid: Servicio de planificación, coordinación e inspección catastral              350\n",
       "Informe \"Esperanza de vida en los barrios\" Madrid Salud                                             306\n",
       "Madrid salud https://madridsalud.es/estudios-de-salud/                                              288\n",
       "Portal web de la Comunidad de Madrid                                                                238\n",
       "Estudio Impacto COVID-19. DG de Innovación y Estrategia Social                                       33\n",
       "Ayuntamiento de Madrid: Departamento de gestión y prestaciones en la atención social primaria        22\n",
       "Consejo General del Poder Judicial                                                                   16\n",
       "Informe Índice de envejecimiento activo de la ciudad de Madrid                                        6\n",
       "Encuesta de población activa                                                                          4\n",
       "Estudio de Necesidades Sociales en  Hogares (2016)                                                    2\n",
       "Name: count, dtype: int64"
      ]
     },
     "execution_count": 12,
     "metadata": {},
     "output_type": "execute_result"
    }
   ],
   "source": [
    "print('------ Info FUENTE INDICADOR ------')\n",
    "demo_distritos[\"fuente_indicador\"].value_counts()"
   ]
  },
  {
   "cell_type": "code",
   "execution_count": 13,
   "id": "c19ad9dc-7144-4536-90a3-afbab5f0ac81",
   "metadata": {
    "scrolled": true
   },
   "outputs": [
    {
     "name": "stdout",
     "output_type": "stream",
     "text": [
      "------ Info CATEGORÍA 1 ------\n"
     ]
    },
    {
     "data": {
      "text/plain": [
       "categoría_1\n",
       "Población del distrito                           21383\n",
       "Educación                                        14506\n",
       "Indicadores Población desempleo                   8158\n",
       "Servicios y equipamientos Municipales             5496\n",
       "Vivienda                                          3247\n",
       "Resultados Elecciones Locales                     2904\n",
       "Índice de vulnerabilidad                          2343\n",
       "Participación ciudadana                           2202\n",
       "Calidad de vida                                   1816\n",
       "Indicadores Económicos                            1575\n",
       "Características Generales del Distrito-Barrio     1224\n",
       "Servicios Sociales                                1188\n",
       "Empresa y comercio                                 993\n",
       "Seguridad                                          711\n",
       "Indicadores de Vulnerabilidad                      630\n",
       "Salud                                              570\n",
       "Medio ambiente y residuos                          212\n",
       "Situación socioeconómica ante COVID-19              15\n",
       "Índice                                               6\n",
       "Name: count, dtype: int64"
      ]
     },
     "execution_count": 13,
     "metadata": {},
     "output_type": "execute_result"
    }
   ],
   "source": [
    "print('------ Info CATEGORÍA 1 ------')\n",
    "demo_distritos[\"categoría_1\"].value_counts()"
   ]
  },
  {
   "cell_type": "code",
   "execution_count": 14,
   "id": "f0d44e82-4763-4d0e-8572-f72961a5aae8",
   "metadata": {
    "scrolled": true
   },
   "outputs": [
    {
     "name": "stdout",
     "output_type": "stream",
     "text": [
      "------ Info CATEGORÍA 2 ------\n"
     ]
    },
    {
     "data": {
      "text/plain": [
       "categoría_2\n",
       "Estructura de población                                      15518\n",
       "Población en etapas educativas                                9183\n",
       "Nivel de estudios de la población                             4268\n",
       "Población desempleo                                           4080\n",
       "Indicadores Desempleo                                         4078\n",
       "Estructura de los hogares                                     3672\n",
       "territorial                                                   2343\n",
       "Entidades de participación ciudadana                          2202\n",
       "Dinámica demográfica                                          2188\n",
       "Servicios Sociales Municipales                                1614\n",
       "Indicadores económicos                                        1575\n",
       "Deportes                                                      1294\n",
       "Educación                                                     1199\n",
       "Escolarización de alumnos por tipo de centro                   790\n",
       "Cultura                                                        718\n",
       "Índice de vulnerabilidad territorial                           608\n",
       "Satisfacción con espacios públicos                             572\n",
       "Personas mayores                                               528\n",
       "Intervención de la Policía Municipal                           525\n",
       "Población general                                              440\n",
       "Zonas verdes                                                   327\n",
       "Percepción de la seguridad                                     264\n",
       "Calidad de vida y agenda pública                               264\n",
       "Discapacidad reconocida                                        264\n",
       "Programa de prevención y control del absentismo escolar        264\n",
       "Principales poblemas de la ciudadanía                          264\n",
       "Locales en uso como vivienda                                   241\n",
       "Indicadores de  de salud                                       234\n",
       "Recursos municipales                                           228\n",
       "Menores y familia                                              220\n",
       "Salud                                                          204\n",
       "Recogida domiciliaria de residuos sólidos                      176\n",
       "Problemas que afectan a la seguridad                           166\n",
       "Administración de la ciudad                                    154\n",
       "Género                                                         140\n",
       "Locales en obras                                               131\n",
       "Locales cerrados                                               131\n",
       "Locales abiertos                                               131\n",
       "Total locales                                                  131\n",
       "Población detenida e investigada por la Policía Municipal      120\n",
       "Amigabilidad de la ciudad                                       88\n",
       "Tipología de las viviendas                                      88\n",
       "Hábitos y estilos de vida                                       72\n",
       "Inspecciones y actuaciones                                      66\n",
       "Ciudadanía                                                      44\n",
       "Contaminantes del aire                                          36\n",
       "Tasa de riesgo de pobreza o exclusión social (AROPE)            18\n",
       "Lanzamientos judiciales                                         16\n",
       "Tipología de hogares                                            15\n",
       "Envejecimiento activo                                            6\n",
       "Mujeres y hombres                                                6\n",
       "Tasa de riesgo de pobreza de los hogares                         3\n",
       "Situación económica de los hogares                               1\n",
       "Name: count, dtype: int64"
      ]
     },
     "execution_count": 14,
     "metadata": {},
     "output_type": "execute_result"
    }
   ],
   "source": [
    "print('------ Info CATEGORÍA 2 ------')\n",
    "demo_distritos[\"categoría_2\"].value_counts()"
   ]
  },
  {
   "cell_type": "code",
   "execution_count": 15,
   "id": "f32f5d0b-bf19-49dc-86c7-dc1bf1268d0c",
   "metadata": {
    "scrolled": true
   },
   "outputs": [
    {
     "name": "stdout",
     "output_type": "stream",
     "text": [
      "------ Info INDICADOR NIVEL 1 ------\n"
     ]
    },
    {
     "data": {
      "text/plain": [
       "indicador_nivel1\n",
       "Número de personas                          18163\n",
       "Número de Habitantes                        14906\n",
       "Número de personas paradas                   8146\n",
       "Número de equipamientos                      5724\n",
       "Número de Hogares                            3672\n",
       "Número de votos                              2904\n",
       "Índice                                       2343\n",
       "Número de entidades                          2202\n",
       "Inmuebles                                    1377\n",
       "Esperanza de vida                             964\n",
       "Superficie                                    918\n",
       "Renta                                         875\n",
       "Locales                                       765\n",
       "Pensión                                       700\n",
       "Valor catastral                               700\n",
       "Crecimiento Demográfico                       612\n",
       "Natalidad                                     612\n",
       "Edad Media                                    612\n",
       "Tiempo                                        608\n",
       "Número de intervenciones                      352\n",
       "Densidad de población                         306\n",
       "Población densidad de población               306\n",
       "Número de viviendas                           256\n",
       "Número de residuos                            176\n",
       "Número de orden                               152\n",
       "Resultado del díndice                         152\n",
       "Número de personas detenidas                  120\n",
       "Número de atestados                            88\n",
       "Número de expedientes                          85\n",
       "Número de inspeciones                          66\n",
       "Número de mujeres                              66\n",
       "Número de familias                             66\n",
       "Número de menores                              66\n",
       "Medida de sentimiento de información           44\n",
       "Valor partículas                               24\n",
       "Actividad global                               12\n",
       "Desigualdad Género                              6\n",
       "Ciudad                                          6\n",
       "Hogar Unipersonal                               6\n",
       "Número de episodios                             4\n",
       "Temperatura                                     4\n",
       "Número de días                                  4\n",
       "Hogar Monoparental                              3\n",
       "Hogares formados por pareja sin hijos/as        3\n",
       "Hogares formados por pareja con hijos/as        3\n",
       "Name: count, dtype: int64"
      ]
     },
     "execution_count": 15,
     "metadata": {},
     "output_type": "execute_result"
    }
   ],
   "source": [
    "print('------ Info INDICADOR NIVEL 1 ------')\n",
    "demo_distritos[\"indicador_nivel1\"].value_counts()"
   ]
  },
  {
   "cell_type": "code",
   "execution_count": 16,
   "id": "02f29cf5-2dde-4387-981f-a07a0ba994df",
   "metadata": {
    "scrolled": true
   },
   "outputs": [
    {
     "name": "stdout",
     "output_type": "stream",
     "text": [
      "------ Info INDICADOR NIVEL 2 ------\n"
     ]
    },
    {
     "data": {
      "text/plain": [
       "indicador_nivel2\n",
       "Mujeres                                                                          5851\n",
       "Hombres                                                                          5849\n",
       "Vulnerabilidad                                                                   2343\n",
       "Asociaciones                                                                     1922\n",
       "de 0 a 2 años                                                                    1836\n",
       "                                                                                 ... \n",
       "6 a 11 años                                                                         2\n",
       "Dificultad para hacer frente a gastos de suministro energético                      1\n",
       "Tasa de riesgo de pobreza para población que ha nacido en país fuera de la UE       1\n",
       "Tasa de riesgo de pobreza para población que ha nacido en España                    1\n",
       "Hogar formado por madre con hijos a cargo                                           1\n",
       "Name: count, Length: 210, dtype: int64"
      ]
     },
     "execution_count": 16,
     "metadata": {},
     "output_type": "execute_result"
    }
   ],
   "source": [
    "print('------ Info INDICADOR NIVEL 2 ------')\n",
    "demo_distritos[\"indicador_nivel2\"].value_counts()"
   ]
  },
  {
   "cell_type": "code",
   "execution_count": 17,
   "id": "91de2b28-9f7c-4bb3-83fe-8470851a4217",
   "metadata": {
    "scrolled": true
   },
   "outputs": [
    {
     "name": "stdout",
     "output_type": "stream",
     "text": [
      "------ Info INDICADOR NIVEL 3 ------\n"
     ]
    },
    {
     "data": {
      "text/plain": [
       "indicador_nivel3\n",
       "Niños                                          3059\n",
       "Municipio                                      2904\n",
       "Niñas                                          2754\n",
       "Primera y segunda nacionalidad del distrito    2059\n",
       "Nacionalidad extranjera                        1836\n",
       "                                               ... \n",
       "2ºExcrementos animales domésticos                 2\n",
       "2ºExceso de velocidad                             2\n",
       "Octubre                                           1\n",
       "Abril                                             1\n",
       "  entre 65 y más años                             1\n",
       "Name: count, Length: 77, dtype: int64"
      ]
     },
     "execution_count": 17,
     "metadata": {},
     "output_type": "execute_result"
    }
   ],
   "source": [
    "print('------ Info INDICADOR NIVEL 3 ------')\n",
    "demo_distritos[\"indicador_nivel3\"].value_counts()"
   ]
  },
  {
   "cell_type": "code",
   "execution_count": 18,
   "id": "2b3a6656-1364-4903-9b9f-2286dc44689c",
   "metadata": {
    "scrolled": true
   },
   "outputs": [
    {
     "name": "stdout",
     "output_type": "stream",
     "text": [
      "------ Info UNIDAD INDICADOR ------\n"
     ]
    },
    {
     "data": {
      "text/plain": [
       "unidad_indicador\n",
       "Personas                  29147\n",
       "Tasa                       6755\n",
       "Equipamientos              5317\n",
       "Índice                     5087\n",
       "Hogares                    3060\n",
       "Votos                      2904\n",
       "Entidades                  2202\n",
       "Habitantes                 1836\n",
       "Proporción                 1833\n",
       "Edad                       1422\n",
       "Número                     1224\n",
       "Renta                       875\n",
       "m2                          845\n",
       "Ha                          775\n",
       "Valor                       700\n",
       "Euros                       700\n",
       "Habitantes/Ha.              612\n",
       "Media                       612\n",
       "Tiempo (meses)              608\n",
       "Año                         459\n",
       "Porcentaje                  379\n",
       "Intervenciones              352\n",
       "Número de orden             304\n",
       "Viviendas                   256\n",
       "Años                        154\n",
       "Personas detenidas          120\n",
       "Kg/hab/año                   88\n",
       "Kg/hab/día                   88\n",
       "Atestados                    88\n",
       "Ha/habitantes                88\n",
       "Expedientes                  85\n",
       "Ha/habitantes * 10.000       76\n",
       "Inspecciones                 66\n",
       "µgr/m3                       19\n",
       "Miles                         8\n",
       "Días                          4\n",
       "Episodios                     4\n",
       "Grados Centígrados            4\n",
       "mg/m3                         4\n",
       "Name: count, dtype: int64"
      ]
     },
     "execution_count": 18,
     "metadata": {},
     "output_type": "execute_result"
    }
   ],
   "source": [
    "print('------ Info UNIDAD INDICADOR ------')\n",
    "demo_distritos[\"unidad_indicador\"].value_counts()"
   ]
  },
  {
   "cell_type": "code",
   "execution_count": 19,
   "id": "ba28d126-56c0-47c9-adb8-012ab257d891",
   "metadata": {
    "scrolled": true
   },
   "outputs": [
    {
     "name": "stdout",
     "output_type": "stream",
     "text": [
      "------ Info INDICADOR COMPLETO ------\n"
     ]
    },
    {
     "data": {
      "text/plain": [
       "indicador_completo\n",
       "Superficie (Ha.)                                                                            612\n",
       "Tasa de desempleo en mujeres de 25 a 44 años                                                612\n",
       "Población en etapa educativa de 3 a 5 años                                                  612\n",
       "Población en etapa educativa de 0 a 2 años                                                  612\n",
       "Población en etapas educativas                                                              612\n",
       "                                                                                           ... \n",
       "Ozono - O3 (µgr/m3)                                                                           1\n",
       "Personas con sobrepeso Hombres                                                                1\n",
       "Personas con sobrepeso Mujeres                                                                1\n",
       "Probabilidad de padecer enfermedad mental (GHQ-12)   entre 65 y más años (Octubre, 2020)      1\n",
       "Lanzamientos judiciales practicados (2013)                                                    1\n",
       "Name: count, Length: 417, dtype: int64"
      ]
     },
     "execution_count": 19,
     "metadata": {},
     "output_type": "execute_result"
    }
   ],
   "source": [
    "print('------ Info INDICADOR COMPLETO ------')\n",
    "demo_distritos[\"indicador_completo\"].value_counts()"
   ]
  },
  {
   "cell_type": "code",
   "execution_count": 20,
   "id": "c598c840-2721-4c6c-ba29-43e05b60764e",
   "metadata": {},
   "outputs": [
    {
     "name": "stdout",
     "output_type": "stream",
     "text": [
      "------ Info VALOR INDICADOR ------\n"
     ]
    },
    {
     "data": {
      "text/plain": [
       "valor_indicador\n",
       "1         3667\n",
       "2         1166\n",
       "3          614\n",
       "4          430\n",
       "5          299\n",
       "          ... \n",
       "29.137       1\n",
       "13,93        1\n",
       "28.861       1\n",
       "3.008        1\n",
       "28,28        1\n",
       "Name: count, Length: 19511, dtype: int64"
      ]
     },
     "execution_count": 20,
     "metadata": {},
     "output_type": "execute_result"
    }
   ],
   "source": [
    "print('------ Info VALOR INDICADOR ------')\n",
    "demo_distritos[\"valor_indicador\"].value_counts()"
   ]
  },
  {
   "cell_type": "markdown",
   "id": "1848a283-b0cd-4830-ae06-dbda3a05b257",
   "metadata": {},
   "source": [
    "La información obtenida en los anteriores apartados acerca de las diferentes variables categóricas del conjunto de datos nos servirán más adelante para filtrar los datos, limpiar la información y quedarnos únicamente con la fracción de datos que nos interesa. Veremos más en el apartado de preprocesado. Ahora, tal y como hemos hecho con el primer conjunto de datos, veremos la información acerca de las variables numéricas:"
   ]
  },
  {
   "cell_type": "code",
   "execution_count": 21,
   "id": "1b8613b8-4c0e-479f-bda5-d542a3fba6b5",
   "metadata": {},
   "outputs": [
    {
     "data": {
      "text/html": [
       "<div>\n",
       "<style scoped>\n",
       "    .dataframe tbody tr th:only-of-type {\n",
       "        vertical-align: middle;\n",
       "    }\n",
       "\n",
       "    .dataframe tbody tr th {\n",
       "        vertical-align: top;\n",
       "    }\n",
       "\n",
       "    .dataframe thead th {\n",
       "        text-align: right;\n",
       "    }\n",
       "</style>\n",
       "<table border=\"1\" class=\"dataframe\">\n",
       "  <thead>\n",
       "    <tr style=\"text-align: right;\">\n",
       "      <th></th>\n",
       "      <th>Orden</th>\n",
       "      <th>cod_distrito</th>\n",
       "      <th>cod_barrio</th>\n",
       "      <th>año</th>\n",
       "    </tr>\n",
       "  </thead>\n",
       "  <tbody>\n",
       "    <tr>\n",
       "      <th>count</th>\n",
       "      <td>69179.000000</td>\n",
       "      <td>68092.000000</td>\n",
       "      <td>50411.000000</td>\n",
       "      <td>69179.000000</td>\n",
       "    </tr>\n",
       "    <tr>\n",
       "      <th>mean</th>\n",
       "      <td>34590.000000</td>\n",
       "      <td>10.780811</td>\n",
       "      <td>110.725516</td>\n",
       "      <td>2020.604403</td>\n",
       "    </tr>\n",
       "    <tr>\n",
       "      <th>std</th>\n",
       "      <td>19970.401473</td>\n",
       "      <td>5.906033</td>\n",
       "      <td>58.551390</td>\n",
       "      <td>1.457388</td>\n",
       "    </tr>\n",
       "    <tr>\n",
       "      <th>min</th>\n",
       "      <td>1.000000</td>\n",
       "      <td>1.000000</td>\n",
       "      <td>11.000000</td>\n",
       "      <td>2008.000000</td>\n",
       "    </tr>\n",
       "    <tr>\n",
       "      <th>25%</th>\n",
       "      <td>17295.500000</td>\n",
       "      <td>6.000000</td>\n",
       "      <td>62.000000</td>\n",
       "      <td>2019.000000</td>\n",
       "    </tr>\n",
       "    <tr>\n",
       "      <th>50%</th>\n",
       "      <td>34590.000000</td>\n",
       "      <td>11.000000</td>\n",
       "      <td>111.000000</td>\n",
       "      <td>2021.000000</td>\n",
       "    </tr>\n",
       "    <tr>\n",
       "      <th>75%</th>\n",
       "      <td>51884.500000</td>\n",
       "      <td>15.000000</td>\n",
       "      <td>158.000000</td>\n",
       "      <td>2022.000000</td>\n",
       "    </tr>\n",
       "    <tr>\n",
       "      <th>max</th>\n",
       "      <td>69179.000000</td>\n",
       "      <td>21.000000</td>\n",
       "      <td>215.000000</td>\n",
       "      <td>2023.000000</td>\n",
       "    </tr>\n",
       "  </tbody>\n",
       "</table>\n",
       "</div>"
      ],
      "text/plain": [
       "              Orden  cod_distrito    cod_barrio           año\n",
       "count  69179.000000  68092.000000  50411.000000  69179.000000\n",
       "mean   34590.000000     10.780811    110.725516   2020.604403\n",
       "std    19970.401473      5.906033     58.551390      1.457388\n",
       "min        1.000000      1.000000     11.000000   2008.000000\n",
       "25%    17295.500000      6.000000     62.000000   2019.000000\n",
       "50%    34590.000000     11.000000    111.000000   2021.000000\n",
       "75%    51884.500000     15.000000    158.000000   2022.000000\n",
       "max    69179.000000     21.000000    215.000000   2023.000000"
      ]
     },
     "execution_count": 21,
     "metadata": {},
     "output_type": "execute_result"
    }
   ],
   "source": [
    "demo_distritos.describe()"
   ]
  },
  {
   "cell_type": "markdown",
   "id": "7cd2950c-d812-4b2a-9180-64ae33d90b2f",
   "metadata": {},
   "source": [
    "Es inmediato advertir que este comando no nos aporta demasiada información en este conjunto de datos, mientras que en el del censo de animales domésticos sí lo hacía."
   ]
  },
  {
   "cell_type": "markdown",
   "id": "379d2e3d-d933-4a51-92d1-0d53fcc5f53d",
   "metadata": {
    "editable": true,
    "slideshow": {
     "slide_type": ""
    },
    "tags": []
   },
   "source": [
    "## Superficie de parques y zonas verdes de Madrid\n",
    "\n",
    "Este conjunto de datos describe las superficies de parques y zonas verdes por distrito de Madrid desde el año 2017 hasta el año 2023. A diferencia de los _datasets_ anteriores, este tiene una hoja CSV para cada año, con lo que durante el preprocesado se podría valorar la opción de unir todos los datos en un único dataframe para simplificar la información con la que trabajemos finalmente. Igual que en apartados anteriores, el primer paso es importar los CSV.\n",
    "\n",
    "<div class=\"alert alert-block alert-info\">\n",
    "<b>Nota:</b> Dado que cada año es un archivo .CSV, siendo en total 5 archivos con idéntica estructura, sólo se va a analizar la información y el tipo de datos de uno de ellos, por cuestión de eficiencia y espacio\n",
    "</div>"
   ]
  },
  {
   "cell_type": "code",
   "execution_count": 22,
   "id": "70124c4f-cb9c-4b22-8da3-ae29da9f933a",
   "metadata": {
    "editable": true,
    "slideshow": {
     "slide_type": ""
    },
    "tags": []
   },
   "outputs": [
    {
     "data": {
      "text/html": [
       "<div>\n",
       "<style scoped>\n",
       "    .dataframe tbody tr th:only-of-type {\n",
       "        vertical-align: middle;\n",
       "    }\n",
       "\n",
       "    .dataframe tbody tr th {\n",
       "        vertical-align: top;\n",
       "    }\n",
       "\n",
       "    .dataframe thead th {\n",
       "        text-align: right;\n",
       "    }\n",
       "</style>\n",
       "<table border=\"1\" class=\"dataframe\">\n",
       "  <thead>\n",
       "    <tr style=\"text-align: right;\">\n",
       "      <th></th>\n",
       "      <th>Nº DISTRITO</th>\n",
       "      <th>DISTRITO</th>\n",
       "      <th>PARQUES Y ZONAS VERDES SIGNIFICATIVAS DE DISTRITO</th>\n",
       "      <th>SUPERFICIE (ha)</th>\n",
       "    </tr>\n",
       "  </thead>\n",
       "  <tbody>\n",
       "    <tr>\n",
       "      <th>0</th>\n",
       "      <td>1</td>\n",
       "      <td>CENTRO</td>\n",
       "      <td>PASEO DEL PRADO I</td>\n",
       "      <td>3,53</td>\n",
       "    </tr>\n",
       "    <tr>\n",
       "      <th>1</th>\n",
       "      <td>1</td>\n",
       "      <td>CENTRO</td>\n",
       "      <td>PASEO DE RECOLETOS I</td>\n",
       "      <td>1,94</td>\n",
       "    </tr>\n",
       "    <tr>\n",
       "      <th>2</th>\n",
       "      <td>1</td>\n",
       "      <td>CENTRO</td>\n",
       "      <td>JARDINES DE LAS VISTILLAS</td>\n",
       "      <td>1,24</td>\n",
       "    </tr>\n",
       "    <tr>\n",
       "      <th>3</th>\n",
       "      <td>1</td>\n",
       "      <td>CENTRO</td>\n",
       "      <td>PARQUE DE ATENAS</td>\n",
       "      <td>4,66</td>\n",
       "    </tr>\n",
       "    <tr>\n",
       "      <th>4</th>\n",
       "      <td>1</td>\n",
       "      <td>CENTRO</td>\n",
       "      <td>PARQUE DE LA DALIEDA DE S.FCO EL GRANDE</td>\n",
       "      <td>0,43</td>\n",
       "    </tr>\n",
       "  </tbody>\n",
       "</table>\n",
       "</div>"
      ],
      "text/plain": [
       "   Nº DISTRITO DISTRITO PARQUES Y ZONAS VERDES SIGNIFICATIVAS DE DISTRITO  \\\n",
       "0            1   CENTRO                                 PASEO DEL PRADO I   \n",
       "1            1   CENTRO                              PASEO DE RECOLETOS I   \n",
       "2            1   CENTRO                         JARDINES DE LAS VISTILLAS   \n",
       "3            1   CENTRO                                  PARQUE DE ATENAS   \n",
       "4            1   CENTRO           PARQUE DE LA DALIEDA DE S.FCO EL GRANDE   \n",
       "\n",
       "  SUPERFICIE (ha)  \n",
       "0            3,53  \n",
       "1            1,94  \n",
       "2            1,24  \n",
       "3            4,66  \n",
       "4            0,43  "
      ]
     },
     "execution_count": 22,
     "metadata": {},
     "output_type": "execute_result"
    }
   ],
   "source": [
    "#Cargamos la información del .csv en el dataframe con el que vamos a trabajar\n",
    "arbolado_19 = pd.read_csv('datasets/arbolado-2019.csv', delimiter=';', encoding='ISO-8859-1')\n",
    "\n",
    "#Mostramos las primeras filas del dataframe para comprobar que se ha importado correctamente\n",
    "arbolado_19.head()"
   ]
  },
  {
   "cell_type": "markdown",
   "id": "15c16883-1d1e-455e-b6d0-d18688f15fab",
   "metadata": {},
   "source": [
    "Una vez comprobamos que el archivo csv se ha volcadoc correctamente en el dataframe, comprobamos su información general."
   ]
  },
  {
   "cell_type": "code",
   "execution_count": 23,
   "id": "26dd2028-5fc5-49d4-801e-2923fb794d60",
   "metadata": {},
   "outputs": [
    {
     "name": "stdout",
     "output_type": "stream",
     "text": [
      "<class 'pandas.core.frame.DataFrame'>\n",
      "RangeIndex: 80 entries, 0 to 79\n",
      "Data columns (total 4 columns):\n",
      " #   Column                                             Non-Null Count  Dtype \n",
      "---  ------                                             --------------  ----- \n",
      " 0   Nº DISTRITO                                        80 non-null     int64 \n",
      " 1   DISTRITO                                           80 non-null     object\n",
      " 2   PARQUES Y ZONAS VERDES SIGNIFICATIVAS DE DISTRITO  80 non-null     object\n",
      " 3   SUPERFICIE (ha)                                    80 non-null     object\n",
      "dtypes: int64(1), object(3)\n",
      "memory usage: 2.6+ KB\n"
     ]
    }
   ],
   "source": [
    "#Obtenemos la información del conjunto de datos\n",
    "arbolado_19.info()"
   ]
  },
  {
   "cell_type": "markdown",
   "id": "534227ed-ca3d-4682-a3c6-7c1a020d0c95",
   "metadata": {},
   "source": [
    "Lo primero que observamos es que el conjunto de datos presenta 80 entradas, ninguna de ellas nula. Por un lado, contiene 3 variables categóricas (nombre del distrito, nombre del parque o zona verde y por último la superficie en hectáreas) y una variable numérica (el número del distrito). También nos indica que ocupa un espacio en memoria de 2.6KB.\n",
    "\n",
    "Vamos a analizar las variables categóricas en primer lugar:"
   ]
  },
  {
   "cell_type": "code",
   "execution_count": 24,
   "id": "727d52d2-bd88-4c60-9bf1-a6244b688828",
   "metadata": {},
   "outputs": [
    {
     "name": "stdout",
     "output_type": "stream",
     "text": [
      "------ Info DISTRITO ------\n"
     ]
    },
    {
     "data": {
      "text/plain": [
       "DISTRITO\n",
       "SALAMANCA                7\n",
       "CENTRO                   5\n",
       "TETUÁN                   5\n",
       "CHAMBERÍ                 5\n",
       "SAN BLAS - CANILLEJAS    5\n",
       "VICÁLVARO                5\n",
       "HORTALEZA                5\n",
       "CIUDAD LINEAL            4\n",
       "RETIRO                   4\n",
       "CHAMARTÍN                4\n",
       "FUENCARRAL - EL PARDO    4\n",
       "LATINA                   4\n",
       "VILLA DE VALLECAS        4\n",
       "PUENTE DE VALLECAS       4\n",
       "BARAJAS                  3\n",
       "ARGANZUELA               3\n",
       "MORATALAZ                2\n",
       "VILLAVERDE               2\n",
       "USERA                    2\n",
       "MONCLOA-ARAVACA          2\n",
       "CARABANCHEL              1\n",
       "Name: count, dtype: int64"
      ]
     },
     "execution_count": 24,
     "metadata": {},
     "output_type": "execute_result"
    }
   ],
   "source": [
    "print('------ Info DISTRITO ------')\n",
    "arbolado_19[\"DISTRITO\"].value_counts()"
   ]
  },
  {
   "cell_type": "code",
   "execution_count": 25,
   "id": "28b20782-410d-4397-9aaa-f562ae748268",
   "metadata": {},
   "outputs": [
    {
     "name": "stdout",
     "output_type": "stream",
     "text": [
      "------ Info PARQUES Y ZONAS VERDES SIGNIFICATIVAS DE DISTRITO ------\n"
     ]
    },
    {
     "data": {
      "text/plain": [
       "PARQUES Y ZONAS VERDES SIGNIFICATIVAS DE DISTRITO\n",
       "PASEO DEL PRADO I              1\n",
       "PASEO DE RECOLETOS I           1\n",
       "PARQUE DE VILLAROSA            1\n",
       "PINAR DEL REY                  1\n",
       "PARQUE DE LOS LLANOS           1\n",
       "                              ..\n",
       "JARDINES DE PERÓN              1\n",
       "PARQUE HUERTA DEL OBISPO       1\n",
       "PASEO DE LA CASTELLANA III     1\n",
       "PARQUE DE BERLÍN               1\n",
       "PLAZA DE LOS HERMANOS FALCÓ    1\n",
       "Name: count, Length: 80, dtype: int64"
      ]
     },
     "execution_count": 25,
     "metadata": {},
     "output_type": "execute_result"
    }
   ],
   "source": [
    "print('------ Info PARQUES Y ZONAS VERDES SIGNIFICATIVAS DE DISTRITO ------')\n",
    "arbolado_19[\"PARQUES Y ZONAS VERDES SIGNIFICATIVAS DE DISTRITO\"].value_counts()"
   ]
  },
  {
   "cell_type": "code",
   "execution_count": 26,
   "id": "ac4e4f15-024f-44f6-8b69-2216d3490f71",
   "metadata": {},
   "outputs": [
    {
     "name": "stdout",
     "output_type": "stream",
     "text": [
      "------ Info SUPERFICIE (ha) ------\n"
     ]
    },
    {
     "data": {
      "text/plain": [
       "SUPERFICIE (ha)\n",
       "1,24     2\n",
       "0,56     2\n",
       "3,06     2\n",
       "3,53     1\n",
       "3,36     1\n",
       "        ..\n",
       "18,5     1\n",
       "1,88     1\n",
       "14,72    1\n",
       "2,01     1\n",
       "0,18     1\n",
       "Name: count, Length: 77, dtype: int64"
      ]
     },
     "execution_count": 26,
     "metadata": {},
     "output_type": "execute_result"
    }
   ],
   "source": [
    "print('------ Info SUPERFICIE (ha) ------')\n",
    "arbolado_19[\"SUPERFICIE (ha)\"].value_counts()"
   ]
  },
  {
   "cell_type": "markdown",
   "id": "7072c0f8-5129-4b2e-83bd-03e98a0689cc",
   "metadata": {},
   "source": [
    "Tal y como se podía intuir desde un principio, no tiene mucho sentido que la variable SUPERFICIE sea categórica. Por lo que la convertimos a variable numérica, de tal manera que podamos trabajar con sus valores (hacer la media, buscar máximos, mínimos, tendencias...) de una manera más compleja a como podríamos hacerlo manteniéndola como variable categórica. Esta sería una tarea más propia del preprocesado, cuando probablemente se convierta también a metros cuadrados."
   ]
  },
  {
   "cell_type": "code",
   "execution_count": 27,
   "id": "f60dd4e2-e1f1-46ab-a8df-4c513e602af2",
   "metadata": {},
   "outputs": [],
   "source": [
    "#Convertimos la variable SUPERFICIE a variable numérica\n",
    "arbolado_19['SUPERFICIE (ha)'] = arbolado_19['SUPERFICIE (ha)'].astype(str).str.replace(',', '.')\n",
    "arbolado_19['SUPERFICIE (ha)'] = pd.to_numeric(arbolado_19['SUPERFICIE (ha)'])"
   ]
  },
  {
   "cell_type": "code",
   "execution_count": 28,
   "id": "d8a3c67c-c9c7-4b03-9d7e-aeebd7d430e1",
   "metadata": {},
   "outputs": [
    {
     "data": {
      "text/html": [
       "<div>\n",
       "<style scoped>\n",
       "    .dataframe tbody tr th:only-of-type {\n",
       "        vertical-align: middle;\n",
       "    }\n",
       "\n",
       "    .dataframe tbody tr th {\n",
       "        vertical-align: top;\n",
       "    }\n",
       "\n",
       "    .dataframe thead th {\n",
       "        text-align: right;\n",
       "    }\n",
       "</style>\n",
       "<table border=\"1\" class=\"dataframe\">\n",
       "  <thead>\n",
       "    <tr style=\"text-align: right;\">\n",
       "      <th></th>\n",
       "      <th>Nº DISTRITO</th>\n",
       "      <th>SUPERFICIE (ha)</th>\n",
       "    </tr>\n",
       "  </thead>\n",
       "  <tbody>\n",
       "    <tr>\n",
       "      <th>count</th>\n",
       "      <td>80.00000</td>\n",
       "      <td>80.000000</td>\n",
       "    </tr>\n",
       "    <tr>\n",
       "      <th>mean</th>\n",
       "      <td>10.56250</td>\n",
       "      <td>8.077625</td>\n",
       "    </tr>\n",
       "    <tr>\n",
       "      <th>std</th>\n",
       "      <td>6.40578</td>\n",
       "      <td>11.324271</td>\n",
       "    </tr>\n",
       "    <tr>\n",
       "      <th>min</th>\n",
       "      <td>1.00000</td>\n",
       "      <td>0.180000</td>\n",
       "    </tr>\n",
       "    <tr>\n",
       "      <th>25%</th>\n",
       "      <td>5.00000</td>\n",
       "      <td>1.500000</td>\n",
       "    </tr>\n",
       "    <tr>\n",
       "      <th>50%</th>\n",
       "      <td>10.00000</td>\n",
       "      <td>3.600000</td>\n",
       "    </tr>\n",
       "    <tr>\n",
       "      <th>75%</th>\n",
       "      <td>16.00000</td>\n",
       "      <td>11.067500</td>\n",
       "    </tr>\n",
       "    <tr>\n",
       "      <th>max</th>\n",
       "      <td>21.00000</td>\n",
       "      <td>59.510000</td>\n",
       "    </tr>\n",
       "  </tbody>\n",
       "</table>\n",
       "</div>"
      ],
      "text/plain": [
       "       Nº DISTRITO  SUPERFICIE (ha)\n",
       "count     80.00000        80.000000\n",
       "mean      10.56250         8.077625\n",
       "std        6.40578        11.324271\n",
       "min        1.00000         0.180000\n",
       "25%        5.00000         1.500000\n",
       "50%       10.00000         3.600000\n",
       "75%       16.00000        11.067500\n",
       "max       21.00000        59.510000"
      ]
     },
     "execution_count": 28,
     "metadata": {},
     "output_type": "execute_result"
    }
   ],
   "source": [
    "#Ahora podemos obtener sus parámetros principales, como la media, el máximo o el mínimo\n",
    "arbolado_19.describe()"
   ]
  },
  {
   "cell_type": "markdown",
   "id": "79a724a3-dbba-4f74-ba7f-fbe884360429",
   "metadata": {},
   "source": [
    "## Áreas caninas en Madrid\n",
    "\n",
    "Por último, vamos a consultar los detalles del conjunto de datos acerca de las áreas caninas ubicadas por la localidad de Madrid, desagregadas según distrito y barrio. Estos datos pueden complementar los ofrecidos por los de las zonas verdes y parques de Madrid. Al igual que estos datos, en este caso también vienen presentados en diferentes archivos .csv para cada año.\n",
    "\n",
    "<div class=\"alert alert-block alert-info\">\n",
    "<b>Nota:</b> Igual que en el caso anterior, sólo procederemos a describir uno de los archivos .csv importado a un dataframe, dado que el resto de archivos del resto de años presentan una estructura idéntica entre sí.\n",
    "</div>"
   ]
  },
  {
   "cell_type": "code",
   "execution_count": 29,
   "id": "6a2bde39-438f-4ffc-97e8-c181e17a6ff5",
   "metadata": {
    "editable": true,
    "slideshow": {
     "slide_type": ""
    },
    "tags": []
   },
   "outputs": [
    {
     "data": {
      "text/html": [
       "<div>\n",
       "<style scoped>\n",
       "    .dataframe tbody tr th:only-of-type {\n",
       "        vertical-align: middle;\n",
       "    }\n",
       "\n",
       "    .dataframe tbody tr th {\n",
       "        vertical-align: top;\n",
       "    }\n",
       "\n",
       "    .dataframe thead th {\n",
       "        text-align: right;\n",
       "    }\n",
       "</style>\n",
       "<table border=\"1\" class=\"dataframe\">\n",
       "  <thead>\n",
       "    <tr style=\"text-align: right;\">\n",
       "      <th></th>\n",
       "      <th>MXASSETNUM,C,12</th>\n",
       "      <th>DESCRIPTIO,C,105</th>\n",
       "      <th>MINTDISTRI,C,20</th>\n",
       "      <th>NOMBRE_DIS,C,25</th>\n",
       "      <th>MINTBARRIO,C,10</th>\n",
       "      <th>NOMBRE_BAR,C,50</th>\n",
       "      <th>INSTALLDAT,D</th>\n",
       "      <th>MINTTIPOVI,C,15</th>\n",
       "      <th>MINTNOMBRE,C,254</th>\n",
       "      <th>MINTNUMERO,C,25</th>\n",
       "      <th>MINTNDP,C,20</th>\n",
       "      <th>TIPO,C,254</th>\n",
       "      <th>TOTAL_ELEM,N,10,0</th>\n",
       "      <th>ESTADO,C,50</th>\n",
       "    </tr>\n",
       "  </thead>\n",
       "  <tbody>\n",
       "    <tr>\n",
       "      <th>0</th>\n",
       "      <td>3580435</td>\n",
       "      <td>C2073-Canina-AV ARCENTALES 29</td>\n",
       "      <td>20</td>\n",
       "      <td>SAN BLAS-CANILLEJAS</td>\n",
       "      <td>201</td>\n",
       "      <td>SIMANCAS</td>\n",
       "      <td>01/01/04</td>\n",
       "      <td>AVENIDA</td>\n",
       "      <td>ARCENTALES</td>\n",
       "      <td>29</td>\n",
       "      <td>20128779.0</td>\n",
       "      <td>CANINAS</td>\n",
       "      <td>4</td>\n",
       "      <td>ACTIVO</td>\n",
       "    </tr>\n",
       "    <tr>\n",
       "      <th>1</th>\n",
       "      <td>3580438</td>\n",
       "      <td>C2076-Canina-C ARCOS DE JALON 16</td>\n",
       "      <td>20</td>\n",
       "      <td>SAN BLAS-CANILLEJAS</td>\n",
       "      <td>204</td>\n",
       "      <td>ARCOS</td>\n",
       "      <td>01/01/04</td>\n",
       "      <td>CALLE</td>\n",
       "      <td>ARCOS DEL JALON</td>\n",
       "      <td>16</td>\n",
       "      <td>11135550.0</td>\n",
       "      <td>CANINAS</td>\n",
       "      <td>2</td>\n",
       "      <td>ACTIVO</td>\n",
       "    </tr>\n",
       "    <tr>\n",
       "      <th>2</th>\n",
       "      <td>3568735</td>\n",
       "      <td>C1057-Canina</td>\n",
       "      <td>10</td>\n",
       "      <td>LATINA</td>\n",
       "      <td>101</td>\n",
       "      <td>LOS CARMENES</td>\n",
       "      <td>03/10/16</td>\n",
       "      <td>NaN</td>\n",
       "      <td>NaN</td>\n",
       "      <td>NaN</td>\n",
       "      <td>NaN</td>\n",
       "      <td>CANINAS DE JUEGOS</td>\n",
       "      <td>8</td>\n",
       "      <td>ACTIVO</td>\n",
       "    </tr>\n",
       "    <tr>\n",
       "      <th>3</th>\n",
       "      <td>3580440</td>\n",
       "      <td>C2078-Canina-C ARCOS DE JALON 13</td>\n",
       "      <td>20</td>\n",
       "      <td>SAN BLAS-CANILLEJAS</td>\n",
       "      <td>204</td>\n",
       "      <td>ARCOS</td>\n",
       "      <td>01/05/16</td>\n",
       "      <td>CALLE</td>\n",
       "      <td>ARCOS DEL JALON</td>\n",
       "      <td>13</td>\n",
       "      <td>31032028.0</td>\n",
       "      <td>CANINAS</td>\n",
       "      <td>1</td>\n",
       "      <td>ACTIVO</td>\n",
       "    </tr>\n",
       "    <tr>\n",
       "      <th>4</th>\n",
       "      <td>16829</td>\n",
       "      <td>C0350-Canina</td>\n",
       "      <td>3</td>\n",
       "      <td>RETIRO</td>\n",
       "      <td>32</td>\n",
       "      <td>ADELFAS</td>\n",
       "      <td>01/07/14</td>\n",
       "      <td>CALLE</td>\n",
       "      <td>ARREGUI Y ARUEJ</td>\n",
       "      <td>16</td>\n",
       "      <td>31005668.0</td>\n",
       "      <td>CANINAS DE JUEGOS</td>\n",
       "      <td>4</td>\n",
       "      <td>ACTIVO</td>\n",
       "    </tr>\n",
       "  </tbody>\n",
       "</table>\n",
       "</div>"
      ],
      "text/plain": [
       "   MXASSETNUM,C,12                  DESCRIPTIO,C,105  MINTDISTRI,C,20  \\\n",
       "0          3580435     C2073-Canina-AV ARCENTALES 29               20   \n",
       "1          3580438  C2076-Canina-C ARCOS DE JALON 16               20   \n",
       "2          3568735                      C1057-Canina               10   \n",
       "3          3580440  C2078-Canina-C ARCOS DE JALON 13               20   \n",
       "4            16829                      C0350-Canina                3   \n",
       "\n",
       "       NOMBRE_DIS,C,25  MINTBARRIO,C,10 NOMBRE_BAR,C,50 INSTALLDAT,D  \\\n",
       "0  SAN BLAS-CANILLEJAS              201        SIMANCAS     01/01/04   \n",
       "1  SAN BLAS-CANILLEJAS              204           ARCOS     01/01/04   \n",
       "2               LATINA              101    LOS CARMENES     03/10/16   \n",
       "3  SAN BLAS-CANILLEJAS              204           ARCOS     01/05/16   \n",
       "4               RETIRO               32         ADELFAS     01/07/14   \n",
       "\n",
       "  MINTTIPOVI,C,15 MINTNOMBRE,C,254 MINTNUMERO,C,25  MINTNDP,C,20  \\\n",
       "0         AVENIDA       ARCENTALES              29    20128779.0   \n",
       "1           CALLE  ARCOS DEL JALON              16    11135550.0   \n",
       "2             NaN              NaN             NaN           NaN   \n",
       "3           CALLE  ARCOS DEL JALON              13    31032028.0   \n",
       "4           CALLE  ARREGUI Y ARUEJ              16    31005668.0   \n",
       "\n",
       "          TIPO,C,254  TOTAL_ELEM,N,10,0 ESTADO,C,50  \n",
       "0            CANINAS                  4      ACTIVO  \n",
       "1            CANINAS                  2      ACTIVO  \n",
       "2  CANINAS DE JUEGOS                  8      ACTIVO  \n",
       "3            CANINAS                  1      ACTIVO  \n",
       "4  CANINAS DE JUEGOS                  4      ACTIVO  "
      ]
     },
     "execution_count": 29,
     "metadata": {},
     "output_type": "execute_result"
    }
   ],
   "source": [
    "#Cargamos la información del .csv en el dataframe con el que vamos a trabajar\n",
    "caninas_19 = pd.read_csv('datasets/areas caninas-2019.csv', delimiter=';', encoding='ISO-8859-1')\n",
    "\n",
    "#Mostramos las primeras filas del dataframe para comprobar que se ha importado correctamente\n",
    "caninas_19.head()"
   ]
  },
  {
   "cell_type": "code",
   "execution_count": 30,
   "id": "6a285d2a-b682-4bb1-b19c-58c6e1577013",
   "metadata": {},
   "outputs": [
    {
     "name": "stdout",
     "output_type": "stream",
     "text": [
      "<class 'pandas.core.frame.DataFrame'>\n",
      "RangeIndex: 148 entries, 0 to 147\n",
      "Data columns (total 14 columns):\n",
      " #   Column             Non-Null Count  Dtype  \n",
      "---  ------             --------------  -----  \n",
      " 0   MXASSETNUM,C,12    148 non-null    int64  \n",
      " 1   DESCRIPTIO,C,105   148 non-null    object \n",
      " 2   MINTDISTRI,C,20    148 non-null    int64  \n",
      " 3   NOMBRE_DIS,C,25    148 non-null    object \n",
      " 4   MINTBARRIO,C,10    148 non-null    int64  \n",
      " 5   NOMBRE_BAR,C,50    148 non-null    object \n",
      " 6   INSTALLDAT,D       118 non-null    object \n",
      " 7   MINTTIPOVI,C,15    146 non-null    object \n",
      " 8   MINTNOMBRE,C,254   146 non-null    object \n",
      " 9   MINTNUMERO,C,25    146 non-null    object \n",
      " 10  MINTNDP,C,20       146 non-null    float64\n",
      " 11  TIPO,C,254         148 non-null    object \n",
      " 12  TOTAL_ELEM,N,10,0  148 non-null    int64  \n",
      " 13  ESTADO,C,50        148 non-null    object \n",
      "dtypes: float64(1), int64(4), object(9)\n",
      "memory usage: 16.3+ KB\n"
     ]
    }
   ],
   "source": [
    "#Obtenemos la información del conjunto de datos\n",
    "caninas_19.info()"
   ]
  },
  {
   "cell_type": "markdown",
   "id": "ab081f10-c44a-48d3-8dcb-4daba3fa465a",
   "metadata": {},
   "source": [
    "Vemos que en este caso el conjunto de datos es a primera vista algo caótico, con unos nombres de variables no muy claros. Durante el preprocesado que se llevará a cabo después, probablemente se limpie el dataframe para trabajar únicamente con las variables de distrito, barrio y tipo de área, eliminando además aquellas entradas que tengan valores nulos o se correspondan con áreas caninas inactivas, según determina la variable *Estado*.\n",
    "\n",
    "En cualquier caso, este conjunto de datos presenta 148 entradas las cuales, en algunas categorías, tienen valor nulo. Se compone de 5 variables numéricas y 9 variables categóricas. Por último, el comando información nos indica que el conjunto de datos ocupa 16.3KB en memoria.\n",
    "\n",
    "Exploraremos en primer lugar las variables numéricas:"
   ]
  },
  {
   "cell_type": "code",
   "execution_count": 31,
   "id": "c3c37a79-7aac-44b4-8b95-bec2708e25f1",
   "metadata": {},
   "outputs": [
    {
     "data": {
      "text/html": [
       "<div>\n",
       "<style scoped>\n",
       "    .dataframe tbody tr th:only-of-type {\n",
       "        vertical-align: middle;\n",
       "    }\n",
       "\n",
       "    .dataframe tbody tr th {\n",
       "        vertical-align: top;\n",
       "    }\n",
       "\n",
       "    .dataframe thead th {\n",
       "        text-align: right;\n",
       "    }\n",
       "</style>\n",
       "<table border=\"1\" class=\"dataframe\">\n",
       "  <thead>\n",
       "    <tr style=\"text-align: right;\">\n",
       "      <th></th>\n",
       "      <th>MXASSETNUM,C,12</th>\n",
       "      <th>MINTDISTRI,C,20</th>\n",
       "      <th>MINTBARRIO,C,10</th>\n",
       "      <th>MINTNDP,C,20</th>\n",
       "      <th>TOTAL_ELEM,N,10,0</th>\n",
       "    </tr>\n",
       "  </thead>\n",
       "  <tbody>\n",
       "    <tr>\n",
       "      <th>count</th>\n",
       "      <td>1.480000e+02</td>\n",
       "      <td>148.000000</td>\n",
       "      <td>148.000000</td>\n",
       "      <td>1.460000e+02</td>\n",
       "      <td>148.000000</td>\n",
       "    </tr>\n",
       "    <tr>\n",
       "      <th>mean</th>\n",
       "      <td>4.601841e+06</td>\n",
       "      <td>11.817568</td>\n",
       "      <td>121.804054</td>\n",
       "      <td>2.036697e+07</td>\n",
       "      <td>1.581081</td>\n",
       "    </tr>\n",
       "    <tr>\n",
       "      <th>std</th>\n",
       "      <td>7.293700e+05</td>\n",
       "      <td>5.788844</td>\n",
       "      <td>57.818818</td>\n",
       "      <td>7.980715e+06</td>\n",
       "      <td>2.526091</td>\n",
       "    </tr>\n",
       "    <tr>\n",
       "      <th>min</th>\n",
       "      <td>1.682900e+04</td>\n",
       "      <td>1.000000</td>\n",
       "      <td>12.000000</td>\n",
       "      <td>1.100227e+07</td>\n",
       "      <td>0.000000</td>\n",
       "    </tr>\n",
       "    <tr>\n",
       "      <th>25%</th>\n",
       "      <td>3.580441e+06</td>\n",
       "      <td>7.000000</td>\n",
       "      <td>74.250000</td>\n",
       "      <td>1.111136e+07</td>\n",
       "      <td>0.000000</td>\n",
       "    </tr>\n",
       "    <tr>\n",
       "      <th>50%</th>\n",
       "      <td>4.996540e+06</td>\n",
       "      <td>12.500000</td>\n",
       "      <td>128.500000</td>\n",
       "      <td>2.010395e+07</td>\n",
       "      <td>0.000000</td>\n",
       "    </tr>\n",
       "    <tr>\n",
       "      <th>75%</th>\n",
       "      <td>4.997450e+06</td>\n",
       "      <td>16.000000</td>\n",
       "      <td>165.250000</td>\n",
       "      <td>3.100580e+07</td>\n",
       "      <td>2.000000</td>\n",
       "    </tr>\n",
       "    <tr>\n",
       "      <th>max</th>\n",
       "      <td>5.148516e+06</td>\n",
       "      <td>21.000000</td>\n",
       "      <td>215.000000</td>\n",
       "      <td>3.106038e+07</td>\n",
       "      <td>12.000000</td>\n",
       "    </tr>\n",
       "  </tbody>\n",
       "</table>\n",
       "</div>"
      ],
      "text/plain": [
       "       MXASSETNUM,C,12  MINTDISTRI,C,20  MINTBARRIO,C,10  MINTNDP,C,20  \\\n",
       "count     1.480000e+02       148.000000       148.000000  1.460000e+02   \n",
       "mean      4.601841e+06        11.817568       121.804054  2.036697e+07   \n",
       "std       7.293700e+05         5.788844        57.818818  7.980715e+06   \n",
       "min       1.682900e+04         1.000000        12.000000  1.100227e+07   \n",
       "25%       3.580441e+06         7.000000        74.250000  1.111136e+07   \n",
       "50%       4.996540e+06        12.500000       128.500000  2.010395e+07   \n",
       "75%       4.997450e+06        16.000000       165.250000  3.100580e+07   \n",
       "max       5.148516e+06        21.000000       215.000000  3.106038e+07   \n",
       "\n",
       "       TOTAL_ELEM,N,10,0  \n",
       "count         148.000000  \n",
       "mean            1.581081  \n",
       "std             2.526091  \n",
       "min             0.000000  \n",
       "25%             0.000000  \n",
       "50%             0.000000  \n",
       "75%             2.000000  \n",
       "max            12.000000  "
      ]
     },
     "execution_count": 31,
     "metadata": {},
     "output_type": "execute_result"
    }
   ],
   "source": [
    "caninas_19.describe()"
   ]
  },
  {
   "cell_type": "markdown",
   "id": "d385449f-7535-4619-8066-1e01b91c6dbc",
   "metadata": {},
   "source": [
    "Es inmediato observar que a partir de esta descripción de las variables numéricas no obtenemos mucha información acerca del conjunto de datos. Procedemos a estudiar las características de las variables categóricas:"
   ]
  },
  {
   "cell_type": "code",
   "execution_count": 32,
   "id": "2352766d-77d8-4ca7-8a69-c815c47748bf",
   "metadata": {},
   "outputs": [
    {
     "name": "stdout",
     "output_type": "stream",
     "text": [
      "------ Info DESCRIPCIÓN ------\n"
     ]
    },
    {
     "data": {
      "text/plain": [
       "DESCRIPTIO,C,105\n",
       "C2073-Canina-AV ARCENTALES 29                    1\n",
       "C0201 - Canina                                   1\n",
       "C0203 - Canina                                   1\n",
       "C0204 - Canina                                   1\n",
       "C0205 - Canina                                   1\n",
       "                                                ..\n",
       "C1174-Canina - CAMINO DE LAS CRUCES 58           1\n",
       "C1970 - Canina - CALLE DE MINERVA 161            1\n",
       "C1980 - Canina - CALLE DE AMBROZ 2B              1\n",
       "C1973 - Canina - PLAZA DE JUAN ROF CARBALLO 4    1\n",
       "C0101 - Canina - VILLA DE PARIS                  1\n",
       "Name: count, Length: 148, dtype: int64"
      ]
     },
     "execution_count": 32,
     "metadata": {},
     "output_type": "execute_result"
    }
   ],
   "source": [
    "print('------ Info DESCRIPCIÓN ------')\n",
    "caninas_19[\"DESCRIPTIO,C,105\"].value_counts()"
   ]
  },
  {
   "cell_type": "markdown",
   "id": "6ea7154f-e62e-46bf-85ed-ef47d5ea9b69",
   "metadata": {},
   "source": [
    "La variable **descripción** nos aporta una información sucinta acerca del tipo de área y su ubicación. Veamos a continuación los detalles acerca de la variable **distrito**:"
   ]
  },
  {
   "cell_type": "code",
   "execution_count": 33,
   "id": "53132570-3262-4c99-b6b2-1f364329bb1f",
   "metadata": {},
   "outputs": [
    {
     "name": "stdout",
     "output_type": "stream",
     "text": [
      "------ Info DISTRITO ------\n"
     ]
    },
    {
     "data": {
      "text/plain": [
       "NOMBRE_DIS,C,25\n",
       "CIUDAD LINEAL          16\n",
       "VICALVARO              12\n",
       "SAN BLAS-CANILLEJAS    11\n",
       "CARABANCHEL            11\n",
       "RETIRO                 10\n",
       "TETUAN                 10\n",
       "HORTALEZA               8\n",
       "PUENTE DE VALLECAS      8\n",
       "VILLAVERDE              7\n",
       "LATINA                  7\n",
       "MORATALAZ               6\n",
       "MONCLOA-ARAVACA         6\n",
       "ARGANZUELA              6\n",
       "CHAMBERI                6\n",
       "USERA                   5\n",
       "SALAMANCA               5\n",
       "FUENCARRAL-EL PARDO     4\n",
       "VILLA DE VALLECAS       3\n",
       "BARAJAS                 3\n",
       "CENTRO                  3\n",
       "CHAMARTIN               1\n",
       "Name: count, dtype: int64"
      ]
     },
     "execution_count": 33,
     "metadata": {},
     "output_type": "execute_result"
    }
   ],
   "source": [
    "print('------ Info DISTRITO ------')\n",
    "caninas_19[\"NOMBRE_DIS,C,25\"].value_counts()"
   ]
  },
  {
   "cell_type": "markdown",
   "id": "fb21bbe2-56e1-44ea-9cb1-64ccf6546447",
   "metadata": {},
   "source": [
    "La variable **distrito** sí que nos aporta información rápida y concisa acerca de los distritos madrileños con más áreas caninas. La variable correspondiente al nombre del barrio nos aportará información análoga a esta, y las correspondientes al nombre y número de la calle donde está ubicada la zona canina no es especialmente relevante dado que nos vamos a centrar a analizar la información a nivel de distrito. Sí que puede ser interesante ver los detalles de la variable **estado**:"
   ]
  },
  {
   "cell_type": "code",
   "execution_count": 34,
   "id": "085af559-e3e5-4706-8883-43906e7d3573",
   "metadata": {},
   "outputs": [
    {
     "name": "stdout",
     "output_type": "stream",
     "text": [
      "------ Info ESTADO ------\n"
     ]
    },
    {
     "data": {
      "text/plain": [
       "ESTADO,C,50\n",
       "ACTIVO      143\n",
       "INACTIVO      5\n",
       "Name: count, dtype: int64"
      ]
     },
     "execution_count": 34,
     "metadata": {},
     "output_type": "execute_result"
    }
   ],
   "source": [
    "print('------ Info ESTADO ------')\n",
    "caninas_19[\"ESTADO,C,50\"].value_counts()"
   ]
  },
  {
   "cell_type": "markdown",
   "id": "ccc7f437-6ed7-420d-aba7-ed66becea725",
   "metadata": {},
   "source": [
    "Efectivamente esta variable nos proporciona información acerca del número de áreas activas e inactivas respecto al total registrado en el conjunto de datos. Vemos que no hay muchas inactivas, las cuales suponen un 3.37% del total. Durante el preprocesado se eliminarán las filas correspondientes a estas áreas inactivas para limpiar los datos."
   ]
  },
  {
   "cell_type": "markdown",
   "id": "0a37f5e7-0834-42e5-a58f-4ef516ffc389",
   "metadata": {
    "jp-MarkdownHeadingCollapsed": true
   },
   "source": []
  }
 ],
 "metadata": {
  "kernelspec": {
   "display_name": "Python 3 (ipykernel)",
   "language": "python",
   "name": "python3"
  },
  "language_info": {
   "codemirror_mode": {
    "name": "ipython",
    "version": 3
   },
   "file_extension": ".py",
   "mimetype": "text/x-python",
   "name": "python",
   "nbconvert_exporter": "python",
   "pygments_lexer": "ipython3",
   "version": "3.12.3"
  }
 },
 "nbformat": 4,
 "nbformat_minor": 5
}
